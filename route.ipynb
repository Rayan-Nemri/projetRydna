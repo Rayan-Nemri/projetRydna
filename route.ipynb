{
 "cells": [
  {
   "cell_type": "code",
   "execution_count": 22,
   "id": "e900d26f-279c-4ffc-8171-3b7755c998d2",
   "metadata": {},
   "outputs": [],
   "source": [
    "import pandas as pd\n",
    "\n",
    "tmja = pd.read_csv(\"tmja-2019.csv\",sep=';')\n",
    "\n"
   ]
  },
  {
   "cell_type": "code",
   "execution_count": 13,
   "id": "58d25ff8-0861-44bf-9943-44eadd4bf0fd",
   "metadata": {},
   "outputs": [
    {
     "name": "stdout",
     "output_type": "stream",
     "text": [
      "  dateReferentiel        route longueur  prD  depPrD concessionPrD  absD  \\\n",
      "0      01/01/2019      31D0044       44    0      31             N     0   \n",
      "1      01/01/2019     31D0044E      762    0      31             N     0   \n",
      "2      01/01/2019      69D0301     6055    2      69             N  -981   \n",
      "3      01/01/2019      69D0383    13752    4      69             N  -494   \n",
      "4      01/01/2019  69D0383BPNL     2408    0      69             N     0   \n",
      "\n",
      "  cumulD         xD          yD  ...  absF  cumulF         xF          yF zF  \\\n",
      "0      0  511656,78  6204078,36  ...    44      44  511698,51  6204063,93  0   \n",
      "1      0  511367,22  6204210,06  ...   762     762  511880,76   6203732,4  0   \n",
      "2      0  844036,84  6510806,45  ...    71    6055  849346,89  6509342,34  0   \n",
      "3      0   846831,3  6522372,16  ...   544   13752  843537,87   6512429,8  0   \n",
      "4      0  844982,46  6522772,27  ...   413    2408   846831,3  6522372,16  0   \n",
      "\n",
      "  anneeMesureTrafic typeComptageTrafic typeComptageTrafic_lib  TMJA  ratio_PL  \n",
      "0               NaN                NaN                    NaN   NaN       NaN  \n",
      "1               NaN                NaN                    NaN   NaN       NaN  \n",
      "2               NaN                NaN                    NaN   NaN       NaN  \n",
      "3               NaN                NaN                    NaN   NaN       NaN  \n",
      "4               NaN                NaN                    NaN   NaN       NaN  \n",
      "\n",
      "[5 rows x 24 columns]\n",
      "Index(['dateReferentiel', 'route', 'longueur', 'prD', 'depPrD',\n",
      "       'concessionPrD', 'absD', 'cumulD', 'xD', 'yD', 'zD', 'prF', 'depPrF',\n",
      "       'concessionPrF', 'absF', 'cumulF', 'xF', 'yF', 'zF',\n",
      "       'anneeMesureTrafic', 'typeComptageTrafic', 'typeComptageTrafic_lib',\n",
      "       'TMJA', 'ratio_PL'],\n",
      "      dtype='object')\n",
      "Colonnes : Index(['dateReferentiel', 'route', 'longueur', 'prD', 'depPrD',\n",
      "       'concessionPrD', 'absD', 'cumulD', 'xD', 'yD', 'zD', 'prF', 'depPrF',\n",
      "       'concessionPrF', 'absF', 'cumulF', 'xF', 'yF', 'zF',\n",
      "       'anneeMesureTrafic', 'typeComptageTrafic', 'typeComptageTrafic_lib',\n",
      "       'TMJA', 'ratio_PL'],\n",
      "      dtype='object')\n"
     ]
    }
   ],
   "source": [
    "print(tmja.head())  \n",
    "print(tmja.columns)  \n",
    "\n",
    "print(\"Colonnes :\", tmja.columns)\n"
   ]
  },
  {
   "cell_type": "code",
   "execution_count": 17,
   "id": "99df2d56-8f55-465a-8cf2-7374d336a14b",
   "metadata": {},
   "outputs": [],
   "source": [
    "tmja_2019 = tmja[tmja[\"anneeMesureTrafic\"] == 2019]\n",
    "tmja_2019 = tmja_2019[[\"depPrD\", \"TMJA\"]]\n",
    "\n",
    "tmja_2019 = tmja_2019.dropna(subset=[\"TMJA\"])\n"
   ]
  },
  {
   "cell_type": "code",
   "execution_count": 18,
   "id": "5e4c7602-925c-4230-97b8-ca995dbe7dbc",
   "metadata": {},
   "outputs": [],
   "source": [
    "tmja_par_dep = tmja_2019.groupby(\"depPrD\")[\"TMJA\"].mean().reset_index()\n"
   ]
  },
  {
   "cell_type": "code",
   "execution_count": 19,
   "id": "2a72925b-41b7-4ca1-b5f3-0ccd12d928db",
   "metadata": {},
   "outputs": [],
   "source": [
    "tmja_par_dep.columns = [\"code_departement\", \"tmja_moyen\"]\n"
   ]
  },
  {
   "cell_type": "code",
   "execution_count": 20,
   "id": "7fa1b4e7-3fe1-40ca-b778-bfb5baabff01",
   "metadata": {},
   "outputs": [
    {
     "name": "stdout",
     "output_type": "stream",
     "text": [
      "    code_departement     tmja_moyen\n",
      "90                93  136675.440000\n",
      "91                94  113175.555556\n",
      "92                95   87498.740741\n",
      "89                92   73716.250000\n",
      "11                13   67540.259740\n"
     ]
    }
   ],
   "source": [
    "print(tmja_par_dep.sort_values(\"tmja_moyen\", ascending=False).head())\n"
   ]
  },
  {
   "cell_type": "code",
   "execution_count": 21,
   "id": "85e8968d-f2dc-4d72-b188-1a7a89033635",
   "metadata": {},
   "outputs": [],
   "source": [
    "tmja_par_dep.to_csv(\"tmja_moyen_par_departement_2019.csv\", index=False)\n"
   ]
  },
  {
   "cell_type": "code",
   "execution_count": null,
   "id": "6f9974db-3b2b-446e-8b48-aab23149473f",
   "metadata": {},
   "outputs": [],
   "source": []
  }
 ],
 "metadata": {
  "kernelspec": {
   "display_name": "Python 3 (ipykernel)",
   "language": "python",
   "name": "python3"
  },
  "language_info": {
   "codemirror_mode": {
    "name": "ipython",
    "version": 3
   },
   "file_extension": ".py",
   "mimetype": "text/x-python",
   "name": "python",
   "nbconvert_exporter": "python",
   "pygments_lexer": "ipython3",
   "version": "3.8.8"
  }
 },
 "nbformat": 4,
 "nbformat_minor": 5
}
