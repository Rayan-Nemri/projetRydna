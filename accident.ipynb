{
 "cells": [
  {
   "cell_type": "code",
   "execution_count": 25,
   "id": "42abcedd-318f-4da3-a7c3-89a529a7ba86",
   "metadata": {},
   "outputs": [],
   "source": [
    "import pandas as pd"
   ]
  },
  {
   "cell_type": "code",
   "execution_count": 26,
   "id": "c53d8b53-9ab1-4bb4-a0e3-d56b5020c5f3",
   "metadata": {},
   "outputs": [],
   "source": [
    "annees = [2019, 2020, 2021, 2022, 2023]\n",
    "dfs = []"
   ]
  },
  {
   "cell_type": "code",
   "execution_count": 27,
   "id": "42b004e1-b41d-4e4f-9562-c70e44751642",
   "metadata": {},
   "outputs": [
    {
     "name": "stdout",
     "output_type": "stream",
     "text": [
      "2019 chargé avec succès\n",
      "2020 chargé avec succès\n",
      "2021 chargé avec succès\n",
      "2022 chargé avec succès\n",
      "2023 chargé avec succès\n"
     ]
    }
   ],
   "source": [
    "urls = {\n",
    "    2019: \"https://www.data.gouv.fr/fr/datasets/r/e22ba475-45a3-46ac-a0f7-9ca9ed1e283a\",\n",
    "    2020: \"https://www.data.gouv.fr/fr/datasets/r/07a88205-83c1-4123-a993-cba5331e8ae0\",\n",
    "    2021: \"https://www.data.gouv.fr/fr/datasets/r/85cfdc0c-23e4-4674-9bcd-79a970d7269b\",\n",
    "    2022: \"https://www.data.gouv.fr/fr/datasets/r/5fc299c0-4598-4c29-b74c-6a67b0cc27e7\",\n",
    "    2023: \"https://www.data.gouv.fr/fr/datasets/r/104dbb32-704f-4e99-a71e-43563cb604f2\"\n",
    "}\n",
    "\n",
    "for annee, url in urls.items():\n",
    "    try:\n",
    "        df = pd.read_csv(url, sep=';', encoding='latin1')\n",
    "        df['annee'] = annee\n",
    "        dfs.append(df)\n",
    "        print(f\"{annee} chargé avec succès\")\n",
    "    except Exception as e:\n",
    "        print(f\"Erreur pour {annee}: {e}\")"
   ]
  },
  {
   "cell_type": "code",
   "execution_count": 28,
   "id": "a62e85e4-fb7e-4d3a-b328-048a33f1a95c",
   "metadata": {},
   "outputs": [
    {
     "name": "stdout",
     "output_type": "stream",
     "text": [
      "\n",
      " Données totales chargées : 273226 lignes\n"
     ]
    }
   ],
   "source": [
    "df_accidents = pd.concat(dfs, ignore_index=True)\n",
    "print(f\"\\n Données totales chargées : {df_accidents.shape[0]} lignes\")"
   ]
  },
  {
   "cell_type": "code",
   "execution_count": 29,
   "id": "07f80155-bd32-412c-878e-0713683cef11",
   "metadata": {},
   "outputs": [
    {
     "data": {
      "text/html": [
       "<div>\n",
       "<style scoped>\n",
       "    .dataframe tbody tr th:only-of-type {\n",
       "        vertical-align: middle;\n",
       "    }\n",
       "\n",
       "    .dataframe tbody tr th {\n",
       "        vertical-align: top;\n",
       "    }\n",
       "\n",
       "    .dataframe thead th {\n",
       "        text-align: right;\n",
       "    }\n",
       "</style>\n",
       "<table border=\"1\" class=\"dataframe\">\n",
       "  <thead>\n",
       "    <tr style=\"text-align: right;\">\n",
       "      <th></th>\n",
       "      <th>Num_Acc</th>\n",
       "      <th>jour</th>\n",
       "      <th>mois</th>\n",
       "      <th>an</th>\n",
       "      <th>hrmn</th>\n",
       "      <th>lum</th>\n",
       "      <th>dep</th>\n",
       "      <th>com</th>\n",
       "      <th>agg</th>\n",
       "      <th>int</th>\n",
       "      <th>atm</th>\n",
       "      <th>col</th>\n",
       "      <th>adr</th>\n",
       "      <th>lat</th>\n",
       "      <th>long</th>\n",
       "      <th>annee</th>\n",
       "      <th>Accident_Id</th>\n",
       "    </tr>\n",
       "  </thead>\n",
       "  <tbody>\n",
       "    <tr>\n",
       "      <th>0</th>\n",
       "      <td>2.019000e+11</td>\n",
       "      <td>30</td>\n",
       "      <td>11</td>\n",
       "      <td>2019</td>\n",
       "      <td>01:30</td>\n",
       "      <td>4</td>\n",
       "      <td>93</td>\n",
       "      <td>93053</td>\n",
       "      <td>1</td>\n",
       "      <td>1</td>\n",
       "      <td>1</td>\n",
       "      <td>2</td>\n",
       "      <td>AUTOROUTE A3</td>\n",
       "      <td>48,8962100</td>\n",
       "      <td>2,4701200</td>\n",
       "      <td>2019</td>\n",
       "      <td>NaN</td>\n",
       "    </tr>\n",
       "    <tr>\n",
       "      <th>1</th>\n",
       "      <td>2.019000e+11</td>\n",
       "      <td>30</td>\n",
       "      <td>11</td>\n",
       "      <td>2019</td>\n",
       "      <td>02:50</td>\n",
       "      <td>3</td>\n",
       "      <td>93</td>\n",
       "      <td>93066</td>\n",
       "      <td>1</td>\n",
       "      <td>1</td>\n",
       "      <td>1</td>\n",
       "      <td>6</td>\n",
       "      <td>AUTOROUTE A1</td>\n",
       "      <td>48,9307000</td>\n",
       "      <td>2,3688000</td>\n",
       "      <td>2019</td>\n",
       "      <td>NaN</td>\n",
       "    </tr>\n",
       "    <tr>\n",
       "      <th>2</th>\n",
       "      <td>2.019000e+11</td>\n",
       "      <td>28</td>\n",
       "      <td>11</td>\n",
       "      <td>2019</td>\n",
       "      <td>15:15</td>\n",
       "      <td>1</td>\n",
       "      <td>92</td>\n",
       "      <td>92036</td>\n",
       "      <td>1</td>\n",
       "      <td>1</td>\n",
       "      <td>1</td>\n",
       "      <td>4</td>\n",
       "      <td>AUTOROUTE A86</td>\n",
       "      <td>48,9358718</td>\n",
       "      <td>2,3191744</td>\n",
       "      <td>2019</td>\n",
       "      <td>NaN</td>\n",
       "    </tr>\n",
       "    <tr>\n",
       "      <th>3</th>\n",
       "      <td>2.019000e+11</td>\n",
       "      <td>30</td>\n",
       "      <td>11</td>\n",
       "      <td>2019</td>\n",
       "      <td>20:20</td>\n",
       "      <td>5</td>\n",
       "      <td>94</td>\n",
       "      <td>94069</td>\n",
       "      <td>1</td>\n",
       "      <td>1</td>\n",
       "      <td>1</td>\n",
       "      <td>4</td>\n",
       "      <td>A4</td>\n",
       "      <td>48,8173295</td>\n",
       "      <td>2,4281502</td>\n",
       "      <td>2019</td>\n",
       "      <td>NaN</td>\n",
       "    </tr>\n",
       "    <tr>\n",
       "      <th>4</th>\n",
       "      <td>2.019000e+11</td>\n",
       "      <td>30</td>\n",
       "      <td>11</td>\n",
       "      <td>2019</td>\n",
       "      <td>04:00</td>\n",
       "      <td>3</td>\n",
       "      <td>94</td>\n",
       "      <td>94028</td>\n",
       "      <td>1</td>\n",
       "      <td>1</td>\n",
       "      <td>1</td>\n",
       "      <td>2</td>\n",
       "      <td>A86 INT</td>\n",
       "      <td>48,7763620</td>\n",
       "      <td>2,4332540</td>\n",
       "      <td>2019</td>\n",
       "      <td>NaN</td>\n",
       "    </tr>\n",
       "  </tbody>\n",
       "</table>\n",
       "</div>"
      ],
      "text/plain": [
       "        Num_Acc  jour  mois    an   hrmn  lum dep    com  agg  int  atm  col  \\\n",
       "0  2.019000e+11    30    11  2019  01:30    4  93  93053    1    1    1    2   \n",
       "1  2.019000e+11    30    11  2019  02:50    3  93  93066    1    1    1    6   \n",
       "2  2.019000e+11    28    11  2019  15:15    1  92  92036    1    1    1    4   \n",
       "3  2.019000e+11    30    11  2019  20:20    5  94  94069    1    1    1    4   \n",
       "4  2.019000e+11    30    11  2019  04:00    3  94  94028    1    1    1    2   \n",
       "\n",
       "             adr         lat       long  annee  Accident_Id  \n",
       "0   AUTOROUTE A3  48,8962100  2,4701200   2019          NaN  \n",
       "1   AUTOROUTE A1  48,9307000  2,3688000   2019          NaN  \n",
       "2  AUTOROUTE A86  48,9358718  2,3191744   2019          NaN  \n",
       "3             A4  48,8173295  2,4281502   2019          NaN  \n",
       "4        A86 INT  48,7763620  2,4332540   2019          NaN  "
      ]
     },
     "execution_count": 29,
     "metadata": {},
     "output_type": "execute_result"
    }
   ],
   "source": [
    "df_accidents.head()"
   ]
  },
  {
   "cell_type": "code",
   "execution_count": 30,
   "id": "8e1f34da-7227-460e-92d6-e304ebf5855c",
   "metadata": {},
   "outputs": [
    {
     "name": "stdout",
     "output_type": "stream",
     "text": [
      "<class 'pandas.core.frame.DataFrame'>\n",
      "RangeIndex: 273226 entries, 0 to 273225\n",
      "Data columns (total 17 columns):\n",
      " #   Column       Non-Null Count   Dtype  \n",
      "---  ------       --------------   -----  \n",
      " 0   Num_Acc      217924 non-null  float64\n",
      " 1   jour         273226 non-null  int64  \n",
      " 2   mois         273226 non-null  int64  \n",
      " 3   an           273226 non-null  int64  \n",
      " 4   hrmn         273226 non-null  object \n",
      " 5   lum          273226 non-null  int64  \n",
      " 6   dep          273226 non-null  object \n",
      " 7   com          273226 non-null  object \n",
      " 8   agg          273226 non-null  int64  \n",
      " 9   int          273226 non-null  int64  \n",
      " 10  atm          273226 non-null  int64  \n",
      " 11  col          273226 non-null  int64  \n",
      " 12  adr          269247 non-null  object \n",
      " 13  lat          273226 non-null  object \n",
      " 14  long         273226 non-null  object \n",
      " 15  annee        273226 non-null  int64  \n",
      " 16  Accident_Id  55302 non-null   float64\n",
      "dtypes: float64(2), int64(9), object(6)\n",
      "memory usage: 35.4+ MB\n"
     ]
    }
   ],
   "source": [
    "df_accidents.info()"
   ]
  },
  {
   "cell_type": "code",
   "execution_count": 31,
   "id": "e75afd2e-b6a7-4244-a437-5a83089c259e",
   "metadata": {},
   "outputs": [
    {
     "name": "stdout",
     "output_type": "stream",
     "text": [
      "\n",
      "Colonnes disponibles : ['Num_Acc', 'jour', 'mois', 'an', 'hrmn', 'lum', 'dep', 'com', 'agg', 'int', 'atm', 'col', 'adr', 'lat', 'long', 'annee', 'Accident_Id']\n"
     ]
    }
   ],
   "source": [
    "print(\"\\nColonnes disponibles :\", list(df_accidents.columns))"
   ]
  },
  {
   "cell_type": "code",
   "execution_count": 32,
   "id": "183c8853-5c82-4c76-87d2-261a7ec9c81f",
   "metadata": {},
   "outputs": [
    {
     "name": "stdout",
     "output_type": "stream",
     "text": [
      "\n",
      "Valeurs manquantes par colonne :\n",
      "Num_Acc         55302\n",
      "jour                0\n",
      "mois                0\n",
      "an                  0\n",
      "hrmn                0\n",
      "lum                 0\n",
      "dep                 0\n",
      "com                 0\n",
      "agg                 0\n",
      "int                 0\n",
      "atm                 0\n",
      "col                 0\n",
      "adr              3979\n",
      "lat                 0\n",
      "long                0\n",
      "annee               0\n",
      "Accident_Id    217924\n",
      "dtype: int64\n"
     ]
    }
   ],
   "source": [
    "print(\"\\nValeurs manquantes par colonne :\")\n",
    "print(df_accidents.isna().sum())"
   ]
  },
  {
   "cell_type": "code",
   "execution_count": 39,
   "id": "62e28c01-8d99-42ac-9c0d-c1695c7acd88",
   "metadata": {},
   "outputs": [],
   "source": [
    "\n",
    "\n"
   ]
  },
  {
   "cell_type": "code",
   "execution_count": 23,
   "id": "a5540e1f-2eb3-4d2d-9cb3-32cb38c6fc9c",
   "metadata": {},
   "outputs": [
    {
     "name": "stdout",
     "output_type": "stream",
     "text": [
      "(273226, 18)\n"
     ]
    }
   ],
   "source": [
    "\n"
   ]
  },
  {
   "cell_type": "code",
   "execution_count": null,
   "id": "10717ff6-234c-465c-a453-715db2ae4c47",
   "metadata": {},
   "outputs": [],
   "source": []
  }
 ],
 "metadata": {
  "kernelspec": {
   "display_name": "Python 3 (ipykernel)",
   "language": "python",
   "name": "python3"
  },
  "language_info": {
   "codemirror_mode": {
    "name": "ipython",
    "version": 3
   },
   "file_extension": ".py",
   "mimetype": "text/x-python",
   "name": "python",
   "nbconvert_exporter": "python",
   "pygments_lexer": "ipython3",
   "version": "3.8.8"
  }
 },
 "nbformat": 4,
 "nbformat_minor": 5
}
