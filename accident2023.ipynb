{
 "cells": [
  {
   "cell_type": "code",
   "execution_count": 7,
   "id": "0a312998-5a03-4c54-b425-ae4f9120c7bd",
   "metadata": {},
   "outputs": [],
   "source": [
    "import pandas as pd"
   ]
  },
  {
   "cell_type": "code",
   "execution_count": 12,
   "id": "ce6f7293-c60c-4142-b874-61c04d13f098",
   "metadata": {},
   "outputs": [
    {
     "data": {
      "text/html": [
       "<div>\n",
       "<style scoped>\n",
       "    .dataframe tbody tr th:only-of-type {\n",
       "        vertical-align: middle;\n",
       "    }\n",
       "\n",
       "    .dataframe tbody tr th {\n",
       "        vertical-align: top;\n",
       "    }\n",
       "\n",
       "    .dataframe thead th {\n",
       "        text-align: right;\n",
       "    }\n",
       "</style>\n",
       "<table border=\"1\" class=\"dataframe\">\n",
       "  <thead>\n",
       "    <tr style=\"text-align: right;\">\n",
       "      <th></th>\n",
       "      <th>Num_Acc</th>\n",
       "      <th>jour</th>\n",
       "      <th>mois</th>\n",
       "      <th>an</th>\n",
       "      <th>hrmn</th>\n",
       "      <th>lum</th>\n",
       "      <th>dep</th>\n",
       "      <th>com</th>\n",
       "      <th>agg</th>\n",
       "      <th>int</th>\n",
       "      <th>atm</th>\n",
       "      <th>col</th>\n",
       "      <th>adr</th>\n",
       "      <th>lat</th>\n",
       "      <th>long</th>\n",
       "    </tr>\n",
       "  </thead>\n",
       "  <tbody>\n",
       "    <tr>\n",
       "      <th>0</th>\n",
       "      <td>202300000001</td>\n",
       "      <td>7</td>\n",
       "      <td>5</td>\n",
       "      <td>2023</td>\n",
       "      <td>06:00</td>\n",
       "      <td>1</td>\n",
       "      <td>75</td>\n",
       "      <td>75101</td>\n",
       "      <td>2</td>\n",
       "      <td>4</td>\n",
       "      <td>2</td>\n",
       "      <td>7</td>\n",
       "      <td>RUE DE RIVOLI</td>\n",
       "      <td>48,86638600</td>\n",
       "      <td>2,32347100</td>\n",
       "    </tr>\n",
       "    <tr>\n",
       "      <th>1</th>\n",
       "      <td>202300000002</td>\n",
       "      <td>7</td>\n",
       "      <td>5</td>\n",
       "      <td>2023</td>\n",
       "      <td>05:30</td>\n",
       "      <td>5</td>\n",
       "      <td>94</td>\n",
       "      <td>94080</td>\n",
       "      <td>2</td>\n",
       "      <td>1</td>\n",
       "      <td>3</td>\n",
       "      <td>6</td>\n",
       "      <td>Avenue de Paris</td>\n",
       "      <td>48,84547782</td>\n",
       "      <td>2,42868146</td>\n",
       "    </tr>\n",
       "    <tr>\n",
       "      <th>2</th>\n",
       "      <td>202300000003</td>\n",
       "      <td>7</td>\n",
       "      <td>5</td>\n",
       "      <td>2023</td>\n",
       "      <td>20:50</td>\n",
       "      <td>1</td>\n",
       "      <td>94</td>\n",
       "      <td>94022</td>\n",
       "      <td>2</td>\n",
       "      <td>3</td>\n",
       "      <td>2</td>\n",
       "      <td>1</td>\n",
       "      <td>Avenue du GÃ©nÃ©ral Leclerc</td>\n",
       "      <td>48,76240000</td>\n",
       "      <td>2,40655000</td>\n",
       "    </tr>\n",
       "    <tr>\n",
       "      <th>3</th>\n",
       "      <td>202300000004</td>\n",
       "      <td>6</td>\n",
       "      <td>5</td>\n",
       "      <td>2023</td>\n",
       "      <td>23:57</td>\n",
       "      <td>5</td>\n",
       "      <td>94</td>\n",
       "      <td>94078</td>\n",
       "      <td>2</td>\n",
       "      <td>1</td>\n",
       "      <td>3</td>\n",
       "      <td>5</td>\n",
       "      <td>Rue de Paris</td>\n",
       "      <td>48,73248432</td>\n",
       "      <td>2,44687575</td>\n",
       "    </tr>\n",
       "    <tr>\n",
       "      <th>4</th>\n",
       "      <td>202300000005</td>\n",
       "      <td>7</td>\n",
       "      <td>5</td>\n",
       "      <td>2023</td>\n",
       "      <td>00:50</td>\n",
       "      <td>5</td>\n",
       "      <td>94</td>\n",
       "      <td>94068</td>\n",
       "      <td>2</td>\n",
       "      <td>2</td>\n",
       "      <td>3</td>\n",
       "      <td>3</td>\n",
       "      <td>56bis Avenue Raspail</td>\n",
       "      <td>48,78581000</td>\n",
       "      <td>2,49217000</td>\n",
       "    </tr>\n",
       "  </tbody>\n",
       "</table>\n",
       "</div>"
      ],
      "text/plain": [
       "        Num_Acc  jour  mois    an   hrmn  lum dep    com  agg  int  atm  col  \\\n",
       "0  202300000001     7     5  2023  06:00    1  75  75101    2    4    2    7   \n",
       "1  202300000002     7     5  2023  05:30    5  94  94080    2    1    3    6   \n",
       "2  202300000003     7     5  2023  20:50    1  94  94022    2    3    2    1   \n",
       "3  202300000004     6     5  2023  23:57    5  94  94078    2    1    3    5   \n",
       "4  202300000005     7     5  2023  00:50    5  94  94068    2    2    3    3   \n",
       "\n",
       "                           adr          lat        long  \n",
       "0                RUE DE RIVOLI  48,86638600  2,32347100  \n",
       "1              Avenue de Paris  48,84547782  2,42868146  \n",
       "2  Avenue du GÃ©nÃ©ral Leclerc  48,76240000  2,40655000  \n",
       "3                 Rue de Paris  48,73248432  2,44687575  \n",
       "4         56bis Avenue Raspail  48,78581000  2,49217000  "
      ]
     },
     "execution_count": 12,
     "metadata": {},
     "output_type": "execute_result"
    }
   ],
   "source": [
    "carac = pd.read_csv(\"caract-2023.csv\", sep=\";\", encoding=\"latin1\")\n",
    "usagers = pd.read_csv(\"usagers-2023.csv\", sep=\";\", encoding=\"latin1\")\n",
    "vehicules = pd.read_csv(\"vehicules-2023.csv\", sep=\";\", encoding=\"latin1\")\n",
    "carac.head()"
   ]
  },
  {
   "cell_type": "code",
   "execution_count": 13,
   "id": "18fad47f-da7f-42f3-b124-e21f5375cc11",
   "metadata": {},
   "outputs": [],
   "source": [
    "carac[\"date\"] = pd.to_datetime(\n",
    "    dict(year=carac[\"an\"], month=carac[\"mois\"], day=carac[\"jour\"]),\n",
    "    errors=\"coerce\"\n",
    ")"
   ]
  },
  {
   "cell_type": "code",
   "execution_count": 15,
   "id": "d68b5d68-3cb6-45eb-845b-f96d7806e493",
   "metadata": {},
   "outputs": [],
   "source": [
    "if \"hrmn\" in carac.columns:\n",
    "        carac[\"heure\"] = pd.to_datetime(\n",
    "        carac[\"hrmn\"].astype(str).str.zfill(4), format=\"%H%M\", errors=\"coerce\"\n",
    "    ).dt.time\n",
    "else:\n",
    "    carac[\"heure\"] = None\n"
   ]
  },
  {
   "cell_type": "code",
   "execution_count": 16,
   "id": "c505dd97-3520-4ff5-bbce-97212b2e049c",
   "metadata": {},
   "outputs": [],
   "source": [
    "carac = carac[carac[\"date\"].notna()]\n"
   ]
  },
  {
   "cell_type": "code",
   "execution_count": 17,
   "id": "403f9da9-7e7a-47f4-a985-8b8882aaa14b",
   "metadata": {},
   "outputs": [],
   "source": [
    "conditions_dict = {\n",
    "    1: \"Temps normal\", 2: \"Pluie légère\", 3: \"Pluie forte\", 4: \"Neige\",\n",
    "    5: \"Brouillard\", 6: \"Vent fort\", 7: \"Éblouissement\", 8: \"Temps couvert\", 9: \"Inconnu\"\n",
    "}\n"
   ]
  },
  {
   "cell_type": "code",
   "execution_count": 18,
   "id": "e2d39fdd-2437-4601-916c-29130ff458b8",
   "metadata": {},
   "outputs": [],
   "source": [
    "carac[\"conditions_meteo\"] = carac[\"atm\"].map(conditions_dict)"
   ]
  },
  {
   "cell_type": "code",
   "execution_count": 19,
   "id": "d27d4ad8-feac-4c75-baa3-c1f222a50a32",
   "metadata": {},
   "outputs": [],
   "source": [
    "if \"grav\" in carac.columns:\n",
    "    carac = carac[carac[\"grav\"] >= 1]\n"
   ]
  },
  {
   "cell_type": "code",
   "execution_count": 20,
   "id": "3ecaa6fe-aa61-44ee-a991-b12b04e5b5f4",
   "metadata": {},
   "outputs": [],
   "source": [
    "merged = pd.merge(carac, usagers, on=\"Num_Acc\", how=\"left\")\n"
   ]
  },
  {
   "cell_type": "code",
   "execution_count": 21,
   "id": "dd9453c9-60d7-4abe-906a-8c72cd2df1ca",
   "metadata": {},
   "outputs": [],
   "source": [
    "final = pd.merge(merged, vehicules, on=[\"Num_Acc\", \"num_veh\"], how=\"left\")\n"
   ]
  },
  {
   "cell_type": "code",
   "execution_count": 22,
   "id": "c3499906-c30a-43c7-b169-f55b76984664",
   "metadata": {},
   "outputs": [
    {
     "name": "stdout",
     "output_type": "stream",
     "text": [
      "     an  mois  jour       date\n",
      "0  2023     5     7 2023-05-07\n",
      "1  2023     5     7 2023-05-07\n",
      "2  2023     5     7 2023-05-07\n",
      "3  2023     5     6 2023-05-06\n",
      "4  2023     5     7 2023-05-07\n"
     ]
    }
   ],
   "source": [
    "print(carac[[\"an\", \"mois\", \"jour\", \"date\"]].head())\n"
   ]
  },
  {
   "cell_type": "code",
   "execution_count": 23,
   "id": "21c93aa0-8516-4a46-8492-230ec6ee5906",
   "metadata": {},
   "outputs": [
    {
     "name": "stdout",
     "output_type": "stream",
     "text": [
      "Dates manquantes : 0\n"
     ]
    }
   ],
   "source": [
    "print(\"Dates manquantes :\", carac[\"date\"].isna().sum())\n"
   ]
  },
  {
   "cell_type": "code",
   "execution_count": 31,
   "id": "68522239-74ce-463d-953b-e2bb8c5c77b9",
   "metadata": {},
   "outputs": [
    {
     "name": "stdout",
     "output_type": "stream",
     "text": [
      "0    06:00\n",
      "1    05:30\n",
      "2    20:50\n",
      "3    23:57\n",
      "4    00:50\n",
      "Name: hrmn, dtype: object\n"
     ]
    }
   ],
   "source": [
    "\n",
    "print(carac[\"hrmn\"].head())\n"
   ]
  },
  {
   "cell_type": "code",
   "execution_count": 32,
   "id": "a758ea97-b805-48a1-88f6-f96736596ab1",
   "metadata": {},
   "outputs": [
    {
     "name": "stdout",
     "output_type": "stream",
     "text": [
      "      atm conditions_meteo\n",
      "0       2     Pluie légère\n",
      "1       3      Pluie forte\n",
      "8       8    Temps couvert\n",
      "13      1     Temps normal\n",
      "36      5       Brouillard\n",
      "40      7    Éblouissement\n",
      "457     9          Inconnu\n",
      "1018    6        Vent fort\n",
      "1548    4            Neige\n",
      "6434   -1              NaN\n"
     ]
    }
   ],
   "source": [
    "\n",
    "print(carac[[\"atm\", \"conditions_meteo\"]].drop_duplicates())\n",
    "\n",
    "\n"
   ]
  },
  {
   "cell_type": "code",
   "execution_count": 33,
   "id": "6e327a71-9a51-4e48-b661-1e3c9ec8f3b1",
   "metadata": {},
   "outputs": [
    {
     "name": "stdout",
     "output_type": "stream",
     "text": [
      "        Num_Acc  jour  mois    an   hrmn  lum dep    com  agg  int  ...  \\\n",
      "0  202300000001     7     5  2023  06:00    1  75  75101    2    4  ...   \n",
      "1  202300000002     7     5  2023  05:30    5  94  94080    2    1  ...   \n",
      "2  202300000002     7     5  2023  05:30    5  94  94080    2    1  ...   \n",
      "3  202300000003     7     5  2023  20:50    1  94  94022    2    3  ...   \n",
      "4  202300000003     7     5  2023  20:50    1  94  94022    2    3  ...   \n",
      "\n",
      "   etatp  id_vehicule_y senc catv obs obsm choc manv motor occutc  \n",
      "0     -1  155Â 680Â 557    1   30   0    0    5    1     1    NaN  \n",
      "1     -1  155Â 680Â 556    2    7   0    1    1    1     1    NaN  \n",
      "2      1  155Â 680Â 556    2    7   0    1    1    1     1    NaN  \n",
      "3     -1  155Â 680Â 554    1    2   0    2    1   16     1    NaN  \n",
      "4     -1  155Â 680Â 555    2    7   0    2    2   15     1    NaN  \n",
      "\n",
      "[5 rows x 42 columns]\n",
      "(125789, 42)\n"
     ]
    }
   ],
   "source": [
    "print(final.head())\n",
    "print(final.shape)\n"
   ]
  },
  {
   "cell_type": "code",
   "execution_count": null,
   "id": "8a2ca89f-e476-4b18-a9c8-fde3faa761e1",
   "metadata": {},
   "outputs": [],
   "source": []
  }
 ],
 "metadata": {
  "kernelspec": {
   "display_name": "Python 3 (ipykernel)",
   "language": "python",
   "name": "python3"
  },
  "language_info": {
   "codemirror_mode": {
    "name": "ipython",
    "version": 3
   },
   "file_extension": ".py",
   "mimetype": "text/x-python",
   "name": "python",
   "nbconvert_exporter": "python",
   "pygments_lexer": "ipython3",
   "version": "3.8.8"
  }
 },
 "nbformat": 4,
 "nbformat_minor": 5
}
