{
 "cells": [
  {
   "cell_type": "code",
   "execution_count": 1,
   "id": "0a312998-5a03-4c54-b425-ae4f9120c7bd",
   "metadata": {},
   "outputs": [],
   "source": [
    "import pandas as pd"
   ]
  },
  {
   "cell_type": "code",
   "execution_count": 2,
   "id": "ce6f7293-c60c-4142-b874-61c04d13f098",
   "metadata": {},
   "outputs": [
    {
     "data": {
      "text/html": [
       "<div>\n",
       "<style scoped>\n",
       "    .dataframe tbody tr th:only-of-type {\n",
       "        vertical-align: middle;\n",
       "    }\n",
       "\n",
       "    .dataframe tbody tr th {\n",
       "        vertical-align: top;\n",
       "    }\n",
       "\n",
       "    .dataframe thead th {\n",
       "        text-align: right;\n",
       "    }\n",
       "</style>\n",
       "<table border=\"1\" class=\"dataframe\">\n",
       "  <thead>\n",
       "    <tr style=\"text-align: right;\">\n",
       "      <th></th>\n",
       "      <th>Num_Acc</th>\n",
       "      <th>jour</th>\n",
       "      <th>mois</th>\n",
       "      <th>an</th>\n",
       "      <th>hrmn</th>\n",
       "      <th>lum</th>\n",
       "      <th>dep</th>\n",
       "      <th>com</th>\n",
       "      <th>agg</th>\n",
       "      <th>int</th>\n",
       "      <th>atm</th>\n",
       "      <th>col</th>\n",
       "      <th>adr</th>\n",
       "      <th>lat</th>\n",
       "      <th>long</th>\n",
       "    </tr>\n",
       "  </thead>\n",
       "  <tbody>\n",
       "    <tr>\n",
       "      <th>0</th>\n",
       "      <td>202300000001</td>\n",
       "      <td>7</td>\n",
       "      <td>5</td>\n",
       "      <td>2023</td>\n",
       "      <td>06:00</td>\n",
       "      <td>1</td>\n",
       "      <td>75</td>\n",
       "      <td>75101</td>\n",
       "      <td>2</td>\n",
       "      <td>4</td>\n",
       "      <td>2</td>\n",
       "      <td>7</td>\n",
       "      <td>RUE DE RIVOLI</td>\n",
       "      <td>48,86638600</td>\n",
       "      <td>2,32347100</td>\n",
       "    </tr>\n",
       "    <tr>\n",
       "      <th>1</th>\n",
       "      <td>202300000002</td>\n",
       "      <td>7</td>\n",
       "      <td>5</td>\n",
       "      <td>2023</td>\n",
       "      <td>05:30</td>\n",
       "      <td>5</td>\n",
       "      <td>94</td>\n",
       "      <td>94080</td>\n",
       "      <td>2</td>\n",
       "      <td>1</td>\n",
       "      <td>3</td>\n",
       "      <td>6</td>\n",
       "      <td>Avenue de Paris</td>\n",
       "      <td>48,84547782</td>\n",
       "      <td>2,42868146</td>\n",
       "    </tr>\n",
       "    <tr>\n",
       "      <th>2</th>\n",
       "      <td>202300000003</td>\n",
       "      <td>7</td>\n",
       "      <td>5</td>\n",
       "      <td>2023</td>\n",
       "      <td>20:50</td>\n",
       "      <td>1</td>\n",
       "      <td>94</td>\n",
       "      <td>94022</td>\n",
       "      <td>2</td>\n",
       "      <td>3</td>\n",
       "      <td>2</td>\n",
       "      <td>1</td>\n",
       "      <td>Avenue du GÃ©nÃ©ral Leclerc</td>\n",
       "      <td>48,76240000</td>\n",
       "      <td>2,40655000</td>\n",
       "    </tr>\n",
       "    <tr>\n",
       "      <th>3</th>\n",
       "      <td>202300000004</td>\n",
       "      <td>6</td>\n",
       "      <td>5</td>\n",
       "      <td>2023</td>\n",
       "      <td>23:57</td>\n",
       "      <td>5</td>\n",
       "      <td>94</td>\n",
       "      <td>94078</td>\n",
       "      <td>2</td>\n",
       "      <td>1</td>\n",
       "      <td>3</td>\n",
       "      <td>5</td>\n",
       "      <td>Rue de Paris</td>\n",
       "      <td>48,73248432</td>\n",
       "      <td>2,44687575</td>\n",
       "    </tr>\n",
       "    <tr>\n",
       "      <th>4</th>\n",
       "      <td>202300000005</td>\n",
       "      <td>7</td>\n",
       "      <td>5</td>\n",
       "      <td>2023</td>\n",
       "      <td>00:50</td>\n",
       "      <td>5</td>\n",
       "      <td>94</td>\n",
       "      <td>94068</td>\n",
       "      <td>2</td>\n",
       "      <td>2</td>\n",
       "      <td>3</td>\n",
       "      <td>3</td>\n",
       "      <td>56bis Avenue Raspail</td>\n",
       "      <td>48,78581000</td>\n",
       "      <td>2,49217000</td>\n",
       "    </tr>\n",
       "  </tbody>\n",
       "</table>\n",
       "</div>"
      ],
      "text/plain": [
       "        Num_Acc  jour  mois    an   hrmn  lum dep    com  agg  int  atm  col  \\\n",
       "0  202300000001     7     5  2023  06:00    1  75  75101    2    4    2    7   \n",
       "1  202300000002     7     5  2023  05:30    5  94  94080    2    1    3    6   \n",
       "2  202300000003     7     5  2023  20:50    1  94  94022    2    3    2    1   \n",
       "3  202300000004     6     5  2023  23:57    5  94  94078    2    1    3    5   \n",
       "4  202300000005     7     5  2023  00:50    5  94  94068    2    2    3    3   \n",
       "\n",
       "                           adr          lat        long  \n",
       "0                RUE DE RIVOLI  48,86638600  2,32347100  \n",
       "1              Avenue de Paris  48,84547782  2,42868146  \n",
       "2  Avenue du GÃ©nÃ©ral Leclerc  48,76240000  2,40655000  \n",
       "3                 Rue de Paris  48,73248432  2,44687575  \n",
       "4         56bis Avenue Raspail  48,78581000  2,49217000  "
      ]
     },
     "execution_count": 2,
     "metadata": {},
     "output_type": "execute_result"
    }
   ],
   "source": [
    "carac = pd.read_csv(\"caract-2023.csv\", sep=\";\", encoding=\"latin1\")\n",
    "usagers = pd.read_csv(\"usagers-2023.csv\", sep=\";\", encoding=\"latin1\")\n",
    "vehicules = pd.read_csv(\"vehicules-2023.csv\", sep=\";\", encoding=\"latin1\")\n",
    "carac.head()"
   ]
  },
  {
   "cell_type": "code",
   "execution_count": 3,
   "id": "18fad47f-da7f-42f3-b124-e21f5375cc11",
   "metadata": {},
   "outputs": [],
   "source": [
    "carac[\"date\"] = pd.to_datetime(\n",
    "    dict(year=carac[\"an\"], month=carac[\"mois\"], day=carac[\"jour\"]),\n",
    "    errors=\"coerce\"\n",
    ")"
   ]
  },
  {
   "cell_type": "code",
   "execution_count": 4,
   "id": "d68b5d68-3cb6-45eb-845b-f96d7806e493",
   "metadata": {},
   "outputs": [],
   "source": [
    "if \"hrmn\" in carac.columns:\n",
    "        carac[\"heure\"] = pd.to_datetime(\n",
    "        carac[\"hrmn\"].astype(str).str.zfill(4), format=\"%H%M\", errors=\"coerce\"\n",
    "    ).dt.time\n",
    "else:\n",
    "    carac[\"heure\"] = None\n"
   ]
  },
  {
   "cell_type": "code",
   "execution_count": 5,
   "id": "c505dd97-3520-4ff5-bbce-97212b2e049c",
   "metadata": {},
   "outputs": [],
   "source": [
    "carac = carac[carac[\"date\"].notna()]\n"
   ]
  },
  {
   "cell_type": "code",
   "execution_count": 6,
   "id": "403f9da9-7e7a-47f4-a985-8b8882aaa14b",
   "metadata": {},
   "outputs": [],
   "source": [
    "conditions_dict = {\n",
    "    1: \"Temps normal\", 2: \"Pluie légère\", 3: \"Pluie forte\", 4: \"Neige\",\n",
    "    5: \"Brouillard\", 6: \"Vent fort\", 7: \"Éblouissement\", 8: \"Temps couvert\", 9: \"Inconnu\"\n",
    "}\n"
   ]
  },
  {
   "cell_type": "code",
   "execution_count": 7,
   "id": "e2d39fdd-2437-4601-916c-29130ff458b8",
   "metadata": {},
   "outputs": [],
   "source": [
    "carac[\"conditions_meteo\"] = carac[\"atm\"].map(conditions_dict)"
   ]
  },
  {
   "cell_type": "code",
   "execution_count": 8,
   "id": "d27d4ad8-feac-4c75-baa3-c1f222a50a32",
   "metadata": {},
   "outputs": [],
   "source": [
    "if \"grav\" in carac.columns:\n",
    "    carac = carac[carac[\"grav\"] >= 1]\n"
   ]
  },
  {
   "cell_type": "code",
   "execution_count": 9,
   "id": "3ecaa6fe-aa61-44ee-a991-b12b04e5b5f4",
   "metadata": {},
   "outputs": [],
   "source": [
    "merged = pd.merge(carac, usagers, on=\"Num_Acc\", how=\"left\")\n"
   ]
  },
  {
   "cell_type": "code",
   "execution_count": 10,
   "id": "dd9453c9-60d7-4abe-906a-8c72cd2df1ca",
   "metadata": {},
   "outputs": [],
   "source": [
    "final = pd.merge(merged, vehicules, on=[\"Num_Acc\", \"num_veh\"], how=\"left\")\n"
   ]
  },
  {
   "cell_type": "code",
   "execution_count": 11,
   "id": "c3499906-c30a-43c7-b169-f55b76984664",
   "metadata": {},
   "outputs": [
    {
     "name": "stdout",
     "output_type": "stream",
     "text": [
      "     an  mois  jour       date\n",
      "0  2023     5     7 2023-05-07\n",
      "1  2023     5     7 2023-05-07\n",
      "2  2023     5     7 2023-05-07\n",
      "3  2023     5     6 2023-05-06\n",
      "4  2023     5     7 2023-05-07\n"
     ]
    }
   ],
   "source": [
    "print(carac[[\"an\", \"mois\", \"jour\", \"date\"]].head())\n"
   ]
  },
  {
   "cell_type": "code",
   "execution_count": 12,
   "id": "21c93aa0-8516-4a46-8492-230ec6ee5906",
   "metadata": {},
   "outputs": [
    {
     "name": "stdout",
     "output_type": "stream",
     "text": [
      "Dates manquantes : 0\n"
     ]
    }
   ],
   "source": [
    "print(\"Dates manquantes :\", carac[\"date\"].isna().sum())\n"
   ]
  },
  {
   "cell_type": "code",
   "execution_count": 13,
   "id": "68522239-74ce-463d-953b-e2bb8c5c77b9",
   "metadata": {},
   "outputs": [
    {
     "name": "stdout",
     "output_type": "stream",
     "text": [
      "0    06:00\n",
      "1    05:30\n",
      "2    20:50\n",
      "3    23:57\n",
      "4    00:50\n",
      "Name: hrmn, dtype: object\n"
     ]
    }
   ],
   "source": [
    "\n",
    "print(carac[\"hrmn\"].head())\n"
   ]
  },
  {
   "cell_type": "code",
   "execution_count": 14,
   "id": "a758ea97-b805-48a1-88f6-f96736596ab1",
   "metadata": {},
   "outputs": [
    {
     "name": "stdout",
     "output_type": "stream",
     "text": [
      "      atm conditions_meteo\n",
      "0       2     Pluie légère\n",
      "1       3      Pluie forte\n",
      "8       8    Temps couvert\n",
      "13      1     Temps normal\n",
      "36      5       Brouillard\n",
      "40      7    Éblouissement\n",
      "457     9          Inconnu\n",
      "1018    6        Vent fort\n",
      "1548    4            Neige\n",
      "6434   -1              NaN\n"
     ]
    }
   ],
   "source": [
    "\n",
    "print(carac[[\"atm\", \"conditions_meteo\"]].drop_duplicates())\n",
    "\n",
    "\n"
   ]
  },
  {
   "cell_type": "code",
   "execution_count": 15,
   "id": "6e327a71-9a51-4e48-b661-1e3c9ec8f3b1",
   "metadata": {},
   "outputs": [
    {
     "name": "stdout",
     "output_type": "stream",
     "text": [
      "        Num_Acc  jour  mois    an   hrmn  lum dep    com  agg  int  ...  \\\n",
      "0  202300000001     7     5  2023  06:00    1  75  75101    2    4  ...   \n",
      "1  202300000002     7     5  2023  05:30    5  94  94080    2    1  ...   \n",
      "2  202300000002     7     5  2023  05:30    5  94  94080    2    1  ...   \n",
      "3  202300000003     7     5  2023  20:50    1  94  94022    2    3  ...   \n",
      "4  202300000003     7     5  2023  20:50    1  94  94022    2    3  ...   \n",
      "\n",
      "   etatp  id_vehicule_y senc catv obs obsm choc manv motor occutc  \n",
      "0     -1  155Â 680Â 557    1   30   0    0    5    1     1    NaN  \n",
      "1     -1  155Â 680Â 556    2    7   0    1    1    1     1    NaN  \n",
      "2      1  155Â 680Â 556    2    7   0    1    1    1     1    NaN  \n",
      "3     -1  155Â 680Â 554    1    2   0    2    1   16     1    NaN  \n",
      "4     -1  155Â 680Â 555    2    7   0    2    2   15     1    NaN  \n",
      "\n",
      "[5 rows x 42 columns]\n",
      "(125789, 42)\n"
     ]
    }
   ],
   "source": [
    "print(final.head())\n",
    "print(final.shape)\n"
   ]
  },
  {
   "cell_type": "code",
   "execution_count": 16,
   "id": "e0d4f4cd-bdae-4b4c-9f0b-f6a5163dea59",
   "metadata": {},
   "outputs": [
    {
     "name": "stdout",
     "output_type": "stream",
     "text": [
      "Nombre total d'accident different cette annee est de : 54822\n"
     ]
    }
   ],
   "source": [
    "print(\"Nombre total d'accident different cette annee est de :\",final[\"Num_Acc\"].nunique())\n"
   ]
  },
  {
   "cell_type": "code",
   "execution_count": 17,
   "id": "dd58b74a-4a2e-4fed-a015-62f714c33478",
   "metadata": {},
   "outputs": [
    {
     "data": {
      "text/plain": [
       "mois\n",
       "1     4053\n",
       "2     3682\n",
       "3     3998\n",
       "4     4162\n",
       "5     4767\n",
       "6     5452\n",
       "7     4754\n",
       "8     4121\n",
       "9     5161\n",
       "10    5389\n",
       "11    4833\n",
       "12    4450\n",
       "Name: Num_Acc, dtype: int64"
      ]
     },
     "execution_count": 17,
     "metadata": {},
     "output_type": "execute_result"
    }
   ],
   "source": [
    "final[\"mois\"] = final[\"date\"].dt.month\n",
    "final.groupby(\"mois\")[\"Num_Acc\"].nunique()\n"
   ]
  },
  {
   "cell_type": "code",
   "execution_count": 18,
   "id": "5a806e05-8370-4b32-a2a6-0b5ee91fd738",
   "metadata": {},
   "outputs": [
    {
     "data": {
      "text/plain": [
       "dep\n",
       "75     4763\n",
       "93     2650\n",
       "92     2563\n",
       "94     2204\n",
       "13     2057\n",
       "       ... \n",
       "90       37\n",
       "978      30\n",
       "986      10\n",
       "977       7\n",
       "975       2\n",
       "Name: Num_Acc, Length: 107, dtype: int64"
      ]
     },
     "execution_count": 18,
     "metadata": {},
     "output_type": "execute_result"
    }
   ],
   "source": [
    "final.groupby(\"dep\")[\"Num_Acc\"].nunique().sort_values(ascending=False)\n"
   ]
  },
  {
   "cell_type": "code",
   "execution_count": 19,
   "id": "fe35391e-17ea-4720-8cdd-0d0b56a439ff",
   "metadata": {},
   "outputs": [
    {
     "data": {
      "text/plain": [
       " 1    98463\n",
       " 2    14974\n",
       " 8     5017\n",
       " 3     3437\n",
       " 7     2180\n",
       " 5      509\n",
       " 9      475\n",
       " 6      432\n",
       " 4      295\n",
       "-1        7\n",
       "Name: atm, dtype: int64"
      ]
     },
     "execution_count": 19,
     "metadata": {},
     "output_type": "execute_result"
    }
   ],
   "source": [
    "final[\"atm\"].value_counts()\n",
    "final[\"atm\"].value_counts()\n"
   ]
  },
  {
   "cell_type": "code",
   "execution_count": 20,
   "id": "6f580ba5-1357-4e1c-bc8e-22b8f5e6bc56",
   "metadata": {},
   "outputs": [
    {
     "data": {
      "text/plain": [
       " 1    82988\n",
       " 5    19367\n",
       " 3    13826\n",
       " 2     8169\n",
       " 4     1436\n",
       "-1        3\n",
       "Name: lum, dtype: int64"
      ]
     },
     "execution_count": 20,
     "metadata": {},
     "output_type": "execute_result"
    }
   ],
   "source": [
    "final[\"lum\"].value_counts()\n"
   ]
  },
  {
   "cell_type": "code",
   "execution_count": 21,
   "id": "642517c9-9c7c-41a4-b614-9695f4bd3ca2",
   "metadata": {},
   "outputs": [
    {
     "data": {
      "text/plain": [
       "2    76061\n",
       "1    49728\n",
       "Name: agg, dtype: int64"
      ]
     },
     "execution_count": 21,
     "metadata": {},
     "output_type": "execute_result"
    }
   ],
   "source": [
    "final[\"agg\"].value_counts()\n"
   ]
  },
  {
   "cell_type": "code",
   "execution_count": 22,
   "id": "235565cc-0fd1-45bf-8ece-e60381fb0ba0",
   "metadata": {},
   "outputs": [
    {
     "name": "stdout",
     "output_type": "stream",
     "text": [
      "Température à midi : 13.1 °C\n",
      "Précipitation à midi : 0.0 mm\n"
     ]
    }
   ],
   "source": [
    "import requests\n",
    "\n",
    "\n",
    "date = \"2022-05-01\"\n",
    "latitude = 48.8566    # Paris\n",
    "longitude = 2.3522\n",
    "\n",
    "\n",
    "url = f\"https://archive-api.open-meteo.com/v1/archive?latitude={latitude}&longitude={longitude}&start_date={date}&end_date={date}&hourly=temperature_2m,precipitation,weathercode&timezone=Europe%2FParis\"\n",
    "\n",
    "response = requests.get(url)\n",
    "\n",
    "\n",
    "if response.status_code == 200:\n",
    "    data = response.json()\n",
    "   \n",
    "    heures = data[\"hourly\"][\"time\"]\n",
    "    temperatures = data[\"hourly\"][\"temperature_2m\"]\n",
    "    precipitations = data[\"hourly\"][\"precipitation\"]\n",
    "\n",
    "    for i in range(len(heures)):\n",
    "        if \"T12:00\" in heures[i]:  # On cherche 12h\n",
    "            print(\"Température à midi :\", temperatures[i], \"°C\")\n",
    "            print(\"Précipitation à midi :\", precipitations[i], \"mm\")\n",
    "            break\n",
    "else:\n",
    "    print(\"Erreur lors de l'appel à l'API météo\")"
   ]
  },
  {
   "cell_type": "code",
   "execution_count": 23,
   "id": "50163ed0-ad66-4914-88e1-f19e676acec7",
   "metadata": {},
   "outputs": [
    {
     "name": "stderr",
     "output_type": "stream",
     "text": [
      "100%|█████████████████████████████████████████| 100/100 [00:13<00:00,  7.66it/s]\n"
     ]
    }
   ],
   "source": [
    "import pandas as pd\n",
    "import requests\n",
    "from tqdm import tqdm\n",
    "\n",
    "# Extrait un sous-échantillon de 100 accidents\n",
    "df_sample = final[[\"date\", \"lat\", \"long\"]].dropna().head(100).copy()\n",
    "\n",
    "# Créer les colonnes météo\n",
    "df_sample[\"temp_max\"] = None\n",
    "df_sample[\"precip_mm\"] = None\n",
    "\n",
    "# Parcours de chaque ligne et appel API Open-Meteo\n",
    "for idx, row in tqdm(df_sample.iterrows(), total=len(df_sample)):\n",
    "    date = row[\"date\"].strftime(\"%Y-%m-%d\")\n",
    "    lat = row[\"lat\"]\n",
    "    lon = row[\"long\"]\n",
    "\n",
    "    url = (\n",
    "        f\"https://archive-api.open-meteo.com/v1/archive?\"\n",
    "        f\"latitude={lat}&longitude={lon}\"\n",
    "        f\"&start_date={date}&end_date={date}\"\n",
    "        f\"&daily=temperature_2m_max,precipitation_sum\"\n",
    "        f\"&timezone=Europe%2FParis\"\n",
    "    )\n",
    "\n",
    "    try:\n",
    "        response = requests.get(url)\n",
    "        data = response.json()\n",
    "        daily = data.get(\"daily\", {})\n",
    "        df_sample.at[idx, \"temp_max\"] = daily.get(\"temperature_2m_max\", [None])[0]\n",
    "        df_sample.at[idx, \"precip_mm\"] = daily.get(\"precipitation_sum\", [None])[0]\n",
    "    except Exception as e:\n",
    "        print(f\"Erreur pour l'index {idx} : {e}\")\n"
   ]
  },
  {
   "cell_type": "code",
   "execution_count": 24,
   "id": "c5139666-8786-4311-b3db-7fd339a691e2",
   "metadata": {},
   "outputs": [
    {
     "name": "stderr",
     "output_type": "stream",
     "text": [
      "100%|███████████████████████████████████████████| 50/50 [00:06<00:00,  7.58it/s]"
     ]
    },
    {
     "name": "stdout",
     "output_type": "stream",
     "text": [
      "         date          lat        long temp_max precip_mm\n",
      "0  2023-05-07  48,86638600  2,32347100     None      None\n",
      "1  2023-05-07  48,84547782  2,42868146     None      None\n",
      "2  2023-05-07  48,84547782  2,42868146     None      None\n",
      "3  2023-05-07  48,76240000  2,40655000     None      None\n",
      "4  2023-05-07  48,76240000  2,40655000     None      None\n",
      "5  2023-05-06  48,73248432  2,44687575     None      None\n",
      "6  2023-05-06  48,73248432  2,44687575     None      None\n",
      "7  2023-05-06  48,73248432  2,44687575     None      None\n",
      "8  2023-05-06  48,73248432  2,44687575     None      None\n",
      "9  2023-05-06  48,73248432  2,44687575     None      None\n",
      "10 2023-05-07  48,78581000  2,49217000     None      None\n",
      "11 2023-05-07  48,78581000  2,49217000     None      None\n",
      "12 2023-05-07  48,83717000  2,51361000     None      None\n",
      "13 2023-05-07  48,83717000  2,51361000     None      None\n",
      "14 2023-05-07  48,78693219  2,36756095     None      None\n",
      "15 2023-05-07  48,78693219  2,36756095     None      None\n",
      "16 2023-05-07  48,78693219  2,36756095     None      None\n",
      "17 2023-05-07  48,78693219  2,36756095     None      None\n",
      "18 2023-05-07  48,78238000  2,49510000     None      None\n",
      "19 2023-05-07  48,78238000  2,49510000     None      None\n",
      "20 2023-05-07  48,78238000  2,49510000     None      None\n",
      "21 2023-05-07  48,76240184  2,40690601     None      None\n",
      "22 2023-05-07  48,76240184  2,40690601     None      None\n",
      "23 2023-05-07  48,83266000  2,54378000     None      None\n",
      "24 2023-05-07  48,83266000  2,54378000     None      None\n",
      "25 2023-05-07  48,99572240  2,51560628     None      None\n",
      "26 2023-05-07  48,99572240  2,51560628     None      None\n",
      "27 2023-05-07  48,99572240  2,51560628     None      None\n",
      "28 2023-05-07  48,99572240  2,51560628     None      None\n",
      "29 2023-05-06  48,83611000  2,56460000     None      None\n",
      "30 2023-05-06  48,83611000  2,56460000     None      None\n",
      "31 2023-05-07  48,95859534  2,41581470     None      None\n",
      "32 2023-05-07  48,95859534  2,41581470     None      None\n",
      "33 2023-05-07  48,94211000  2,42916000     None      None\n",
      "34 2023-05-07  48,90631671  2,48228681     None      None\n",
      "35 2023-05-07  48,90631671  2,48228681     None      None\n",
      "36 2023-05-07  48,90631671  2,48228681     None      None\n",
      "37 2023-05-07  48,90631671  2,48228681     None      None\n",
      "38 2023-05-07  48,88677185  2,20519647     None      None\n",
      "39 2023-05-07  48,88677185  2,20519647     None      None\n",
      "40 2023-05-07  48,88677185  2,20519647     None      None\n",
      "41 2023-05-07  48,88677185  2,20519647     None      None\n",
      "42 2023-05-07  48,88677185  2,20519647     None      None\n",
      "43 2023-05-07  48,88677185  2,20519647     None      None\n",
      "44 2023-05-07  48,88677185  2,20519647     None      None\n",
      "45 2023-05-07  48,80202300  2,31800600     None      None\n",
      "46 2023-05-07  48,80202300  2,31800600     None      None\n",
      "47 2023-05-07  46,08672900  5,11126600     None      None\n",
      "48 2023-05-07  46,08672900  5,11126600     None      None\n",
      "49 2023-05-07  46,08672900  5,11126600     None      None\n"
     ]
    },
    {
     "name": "stderr",
     "output_type": "stream",
     "text": [
      "\n"
     ]
    }
   ],
   "source": [
    "import requests\n",
    "from tqdm import tqdm\n",
    "\n",
    "# Sous-échantillon (5 accidents avec coordonnées valides)\n",
    "df_test = final[[\"date\", \"lat\", \"long\"]].dropna().head(50).copy()\n",
    "df_test[\"temp_max\"] = None\n",
    "df_test[\"precip_mm\"] = None\n",
    "\n",
    "# Boucle API\n",
    "for idx, row in tqdm(df_test.iterrows(), total=len(df_test)):\n",
    "    date = row[\"date\"].strftime(\"%Y-%m-%d\")\n",
    "    lat = row[\"lat\"]\n",
    "    lon = row[\"long\"]\n",
    "\n",
    "    url = (\n",
    "        f\"https://archive-api.open-meteo.com/v1/archive?\"\n",
    "        f\"latitude={lat}&longitude={lon}\"\n",
    "        f\"&start_date={date}&end_date={date}\"\n",
    "        f\"&daily=temperature_2m_max,precipitation_sum\"\n",
    "        f\"&timezone=Europe%2FParis\"\n",
    "    )\n",
    "\n",
    "    try:\n",
    "        response = requests.get(url)\n",
    "        data = response.json()\n",
    "        daily = data.get(\"daily\", {})\n",
    "        df_test.at[idx, \"temp_max\"] = daily.get(\"temperature_2m_max\", [None])[0]\n",
    "        df_test.at[idx, \"precip_mm\"] = daily.get(\"precipitation_sum\", [None])[0]\n",
    "    except Exception as e:\n",
    "        print(f\"Erreur ligne {idx} : {e}\")\n",
    "\n",
    "# Afficher le résultat\n",
    "print(df_test)\n",
    "\n"
   ]
  },
  {
   "cell_type": "code",
   "execution_count": 25,
   "id": "3f18c5ed-c974-427f-8741-2973f5468ae6",
   "metadata": {},
   "outputs": [
    {
     "data": {
      "image/png": "[encoded data removed]",
      "text/plain": [
       "<Figure size 800x500 with 1 Axes>"
      ]
     },
     "metadata": {},
     "output_type": "display_data"
    }
   ],
   "source": [
    "import pandas as pd\n",
    "import matplotlib.pyplot as plt\n",
    "\n",
    "\n",
    "usagers = pd.read_csv(\"usagers-2023.csv\", sep=';')\n",
    "\n",
    "\n",
    "gravite_labels = {\n",
    "    1: 'Indemne',\n",
    "    2: 'Tué',\n",
    "    3: 'Blessé hospitalisé',\n",
    "    4: 'Blessé léger'\n",
    "}\n",
    "\n",
    "\n",
    "usagers['gravite'] = usagers['grav'].map(gravite_labels)\n",
    "\n",
    "\n",
    "gravite_counts = usagers['gravite'].value_counts()\n",
    "\n",
    "\n",
    "plt.figure(figsize=(8, 5))\n",
    "gravite_counts.plot(kind='bar')\n",
    "plt.title(\"Répartition des accidents par gravité (2023)\")\n",
    "plt.xlabel(\"Gravité\")\n",
    "plt.ylabel(\"Nombre d’usagers concernés\")\n",
    "plt.grid(axis='y')\n",
    "plt.tight_layout()\n",
    "plt.show()\n"
   ]
  },
  {
   "cell_type": "code",
   "execution_count": 26,
   "id": "e5fc8adb-db61-4010-bfe1-d01aeb8306bc",
   "metadata": {},
   "outputs": [
    {
     "data": {
      "image/png": "[encoded data removed]",
      "text/plain": [
       "<Figure size 600x400 with 1 Axes>"
      ]
     },
     "metadata": {},
     "output_type": "display_data"
    }
   ],
   "source": [
    "carac[\"date\"] = pd.to_datetime(dict(year=carac[\"an\"], month=carac[\"mois\"], day=carac[\"jour\"]), errors=\"coerce\")\n",
    "carac[\"jour_semaine\"] = carac[\"date\"].dt.dayofweek\n",
    "carac[\"type_jour\"] = carac[\"jour_semaine\"].apply(lambda x: \"Week-end\" if x in [5, 6] else \"Semaine\")\n",
    "\n",
    "# Bar chart\n",
    "plt.figure(figsize=(6, 4))\n",
    "carac[\"type_jour\"].value_counts().plot(kind='bar', color=['lightgreen', 'tomato'])\n",
    "plt.title(\"Accidents : semaine vs week-end\")\n",
    "plt.xlabel(\"Type de jour\")\n",
    "plt.ylabel(\"Nombre d'accidents\")\n",
    "plt.tight_layout()\n",
    "plt.show()\n"
   ]
  },
  {
   "cell_type": "code",
   "execution_count": 27,
   "id": "7c22dcd9-7b42-4cd3-96e7-883a1b648a7d",
   "metadata": {},
   "outputs": [],
   "source": [
    "# Charger la population par département\n",
    "pop_df = pd.read_csv(\"donnees_departements.csv\", sep=\";\")\n",
    "\n"
   ]
  },
  {
   "cell_type": "code",
   "execution_count": 28,
   "id": "7c924cc0-98cf-4fd3-8775-0b65ca4ce9ad",
   "metadata": {},
   "outputs": [
    {
     "data": {
      "text/html": [
       "<div>\n",
       "<style scoped>\n",
       "    .dataframe tbody tr th:only-of-type {\n",
       "        vertical-align: middle;\n",
       "    }\n",
       "\n",
       "    .dataframe tbody tr th {\n",
       "        vertical-align: top;\n",
       "    }\n",
       "\n",
       "    .dataframe thead th {\n",
       "        text-align: right;\n",
       "    }\n",
       "</style>\n",
       "<table border=\"1\" class=\"dataframe\">\n",
       "  <thead>\n",
       "    <tr style=\"text-align: right;\">\n",
       "      <th></th>\n",
       "      <th>dep</th>\n",
       "      <th>accidents</th>\n",
       "      <th>population</th>\n",
       "      <th>freq_per_10k_hab</th>\n",
       "      <th>freq_per_100_veh</th>\n",
       "      <th>mean_grav_dep</th>\n",
       "    </tr>\n",
       "  </thead>\n",
       "  <tbody>\n",
       "    <tr>\n",
       "      <th>75</th>\n",
       "      <td>75</td>\n",
       "      <td>4763</td>\n",
       "      <td>2129257.0</td>\n",
       "      <td>22.369305</td>\n",
       "      <td>58.434548</td>\n",
       "      <td>2.650365</td>\n",
       "    </tr>\n",
       "    <tr>\n",
       "      <th>98</th>\n",
       "      <td>973</td>\n",
       "      <td>600</td>\n",
       "      <td>290476.0</td>\n",
       "      <td>20.655751</td>\n",
       "      <td>55.504163</td>\n",
       "      <td>2.667480</td>\n",
       "    </tr>\n",
       "    <tr>\n",
       "      <th>29</th>\n",
       "      <td>2B</td>\n",
       "      <td>346</td>\n",
       "      <td>187843.0</td>\n",
       "      <td>18.419638</td>\n",
       "      <td>56.907895</td>\n",
       "      <td>2.689169</td>\n",
       "    </tr>\n",
       "    <tr>\n",
       "      <th>28</th>\n",
       "      <td>2A</td>\n",
       "      <td>286</td>\n",
       "      <td>168376.0</td>\n",
       "      <td>16.985794</td>\n",
       "      <td>56.972112</td>\n",
       "      <td>2.679670</td>\n",
       "    </tr>\n",
       "    <tr>\n",
       "      <th>93</th>\n",
       "      <td>93</td>\n",
       "      <td>2650</td>\n",
       "      <td>1688205.0</td>\n",
       "      <td>15.697146</td>\n",
       "      <td>55.162365</td>\n",
       "      <td>2.577442</td>\n",
       "    </tr>\n",
       "    <tr>\n",
       "      <th>94</th>\n",
       "      <td>94</td>\n",
       "      <td>2204</td>\n",
       "      <td>1428350.0</td>\n",
       "      <td>15.430392</td>\n",
       "      <td>55.003743</td>\n",
       "      <td>2.620886</td>\n",
       "    </tr>\n",
       "    <tr>\n",
       "      <th>92</th>\n",
       "      <td>92</td>\n",
       "      <td>2563</td>\n",
       "      <td>1663026.0</td>\n",
       "      <td>15.411665</td>\n",
       "      <td>57.376315</td>\n",
       "      <td>2.680699</td>\n",
       "    </tr>\n",
       "    <tr>\n",
       "      <th>97</th>\n",
       "      <td>972</td>\n",
       "      <td>546</td>\n",
       "      <td>364991.0</td>\n",
       "      <td>14.959273</td>\n",
       "      <td>55.828221</td>\n",
       "      <td>2.676242</td>\n",
       "    </tr>\n",
       "    <tr>\n",
       "      <th>96</th>\n",
       "      <td>971</td>\n",
       "      <td>558</td>\n",
       "      <td>388197.0</td>\n",
       "      <td>14.374145</td>\n",
       "      <td>58.185610</td>\n",
       "      <td>2.588385</td>\n",
       "    </tr>\n",
       "    <tr>\n",
       "      <th>4</th>\n",
       "      <td>05</td>\n",
       "      <td>201</td>\n",
       "      <td>145993.0</td>\n",
       "      <td>13.767783</td>\n",
       "      <td>62.229102</td>\n",
       "      <td>2.653068</td>\n",
       "    </tr>\n",
       "  </tbody>\n",
       "</table>\n",
       "</div>"
      ],
      "text/plain": [
       "    dep  accidents  population  freq_per_10k_hab  freq_per_100_veh  \\\n",
       "75   75       4763   2129257.0         22.369305         58.434548   \n",
       "98  973        600    290476.0         20.655751         55.504163   \n",
       "29   2B        346    187843.0         18.419638         56.907895   \n",
       "28   2A        286    168376.0         16.985794         56.972112   \n",
       "93   93       2650   1688205.0         15.697146         55.162365   \n",
       "94   94       2204   1428350.0         15.430392         55.003743   \n",
       "92   92       2563   1663026.0         15.411665         57.376315   \n",
       "97  972        546    364991.0         14.959273         55.828221   \n",
       "96  971        558    388197.0         14.374145         58.185610   \n",
       "4    05        201    145993.0         13.767783         62.229102   \n",
       "\n",
       "    mean_grav_dep  \n",
       "75       2.650365  \n",
       "98       2.667480  \n",
       "29       2.689169  \n",
       "28       2.679670  \n",
       "93       2.577442  \n",
       "94       2.620886  \n",
       "92       2.680699  \n",
       "97       2.676242  \n",
       "96       2.588385  \n",
       "4        2.653068  "
      ]
     },
     "execution_count": 28,
     "metadata": {},
     "output_type": "execute_result"
    }
   ],
   "source": [
    "\n",
    "carac[\"dep\"] = carac[\"dep\"].astype(str).str.zfill(2)\n",
    "pop_df[\"DEP\"] = pop_df[\"DEP\"].astype(str).str.zfill(2)\n",
    "pop_clean = pop_df[[\"DEP\", \"PTOT\"]].rename(columns={\"DEP\": \"dep\", \"PTOT\": \"population\"})\n",
    "\n",
    "\n",
    "acc_per_dep = carac.groupby(\"dep\").agg(accidents=(\"Num_Acc\", \"nunique\")).reset_index()\n",
    "acc_freq_habitant = acc_per_dep.merge(pop_clean, on=\"dep\", how=\"left\")\n",
    "acc_freq_habitant[\"freq_per_10k_hab\"] = acc_freq_habitant[\"accidents\"] / acc_freq_habitant[\"population\"] * 10000\n",
    "\n",
    "\n",
    "vehicules[\"Num_Acc\"] = vehicules[\"Num_Acc\"].astype(str)\n",
    "carac[\"Num_Acc\"] = carac[\"Num_Acc\"].astype(str)\n",
    "veh_caract = pd.merge(vehicules, carac[[\"Num_Acc\", \"dep\"]], on=\"Num_Acc\", how=\"left\")\n",
    "veh_per_dep = veh_caract.groupby(\"dep\").agg(vehicules=(\"Num_Acc\", \"count\")).reset_index()\n",
    "acc_freq_veh = acc_per_dep.merge(veh_per_dep, on=\"dep\", how=\"left\")\n",
    "acc_freq_veh[\"freq_per_100_veh\"] = acc_freq_veh[\"accidents\"] / acc_freq_veh[\"vehicules\"] * 100\n",
    "\n",
    "\n",
    "usagers[\"Num_Acc\"] = usagers[\"Num_Acc\"].astype(str)\n",
    "gravite = usagers.groupby(\"Num_Acc\").agg(mean_grav=(\"grav\", \"mean\")).reset_index()\n",
    "gravite = gravite.merge(carac[[\"Num_Acc\", \"dep\"]], on=\"Num_Acc\", how=\"left\")\n",
    "grav_per_dep = gravite.groupby(\"dep\").agg(mean_grav_dep=(\"mean_grav\", \"mean\")).reset_index()\n",
    "\n",
    "\n",
    "kpi_df = acc_freq_habitant.merge(acc_freq_veh[[\"dep\", \"freq_per_100_veh\"]], on=\"dep\", how=\"left\")\n",
    "kpi_df = kpi_df.merge(grav_per_dep, on=\"dep\", how=\"left\")\n",
    "\n",
    "\n",
    "kpi_df.sort_values(\"freq_per_10k_hab\", ascending=False).head(10)\n"
   ]
  },
  {
   "cell_type": "code",
   "execution_count": 31,
   "id": "90394da1-4783-4164-8b13-1233f8f20288",
   "metadata": {},
   "outputs": [
    {
     "name": "stdout",
     "output_type": "stream",
     "text": [
      "     dep  accidents  population  freq_per_10k_hab  freq_per_100_veh  \\\n",
      "100  975          2         NaN               NaN        100.000000   \n",
      "55    55        111    185753.0          5.975677         68.098160   \n",
      "104  986         10         NaN               NaN         76.923077   \n",
      "48    48         70     80049.0          8.744644         74.468085   \n",
      "65    65        218    237183.0          9.191215         67.912773   \n",
      "90    90         37    142989.0          2.587612         72.549020   \n",
      "46    46        125    181023.0          6.905200         69.060773   \n",
      "58    58        193    207295.0          9.310403         66.095890   \n",
      "3     04        193    171621.0         11.245710         67.719298   \n",
      "87    87        422    378754.0         11.141797         63.554217   \n",
      "\n",
      "     mean_grav_dep  vehicules  total_accident_cost  total_premium    ratio_SP  \n",
      "100       2.250000          2         2.250000e+04           4000  562.500000  \n",
      "55        2.874785        163         1.595506e+06         326000  489.419004  \n",
      "104       2.510000         13         1.255000e+05          26000  482.692308  \n",
      "48        2.581939         94         9.036786e+05         188000  480.680091  \n",
      "65        2.748924        321         2.996327e+06         642000  466.717661  \n",
      "90        2.490991         51         4.608333e+05         102000  451.797386  \n",
      "46        2.606229        181         1.628893e+06         362000  449.970403  \n",
      "58        2.723057        292         2.627750e+06         584000  449.957192  \n",
      "3         2.637061        285         2.544764e+06         570000  446.449805  \n",
      "87        2.809766        664         5.928607e+06        1328000  446.431261  \n"
     ]
    }
   ],
   "source": [
    "# Hypothèses\n",
    "average_cost_per_accident = 5000       # Coût moyen de base par accident (en euros)\n",
    "average_premium_per_vehicle = 2000     # Prime annuelle fictive par véhicule (en euros)\n",
    "\n",
    "# Fusionner le nombre de véhicules par département avec le tableau KPI\n",
    "kpi_df_full = kpi_df.merge(veh_per_dep, on=\"dep\", how=\"left\")\n",
    "\n",
    "# Calcul du coût total des sinistres par département :\n",
    "# On multiplie le nombre d'accidents par le coût moyen ajusté par la gravité\n",
    "kpi_df_full[\"total_accident_cost\"] = kpi_df_full[\"accidents\"] * average_cost_per_accident * kpi_df_full[\"mean_grav_dep\"]\n",
    "\n",
    "# Calcul total des primes collectées par département :\n",
    "# On multiplie le nombre de véhicules par la prime fictive\n",
    "kpi_df_full[\"total_premium\"] = kpi_df_full[\"vehicules\"] * average_premium_per_vehicle\n",
    "\n",
    "# Calcul du ratio S/P (en pourcentage)\n",
    "kpi_df_full[\"ratio_SP\"] = kpi_df_full[\"total_accident_cost\"] / kpi_df_full[\"total_premium\"] * 100\n",
    "\n",
    "# Affichage des 10 départements présentant le ratio S/P le plus élevé\n",
    "print(kpi_df_full.sort_values(\"ratio_SP\", ascending=False).head(10))\n"
   ]
  },
  {
   "cell_type": "code",
   "execution_count": 37,
   "id": "35671e73-2725-4edf-9510-5bc85de2a90f",
   "metadata": {},
   "outputs": [],
   "source": [
    "lum_dict = {\n",
    "    1: \"Plein jour\",\n",
    "    2: \"Crépuscule ou aube\",\n",
    "    3: \"Nuit sans éclairage public\",\n",
    "    4: \"Nuit avec éclairage non allumé\",\n",
    "    5: \"Nuit avec éclairage allumé\"\n",
    "}\n",
    "\n",
    "col_dict = {\n",
    "    1: \"Deux véhicules - frontale\",\n",
    "    2: \"Deux véhicules - arrière\",\n",
    "    3: \"Deux véhicules - angle\",\n",
    "    4: \"Trois véhicules et plus\",\n",
    "    5: \"Autre collision\",\n",
    "    6: \"Piéton\",\n",
    "    7: \"Obstacle fixe\",\n",
    "    8: \"Animal\",\n",
    "    9: \"Autre sans collision\",\n",
    "    10: \"Non précisé\"\n",
    "}\n",
    "\n",
    "agg_dict = {\n",
    "    1: \"Hors agglomération\",\n",
    "    2: \"En agglomération\"\n",
    "}\n",
    "\n",
    "\n",
    "grav_lum = usagers.groupby(\"Num_Acc\").agg(mean_grav=(\"grav\", \"mean\")).reset_index()\n",
    "grav_lum = grav_lum.merge(carac[[\"Num_Acc\", \"lum\"]], on=\"Num_Acc\", how=\"left\")\n",
    "grav_lum = grav_lum.groupby(\"lum\").agg(mean_grav=(\"mean_grav\", \"mean\"), nb_acc=(\"Num_Acc\", \"count\")).reset_index()\n",
    "grav_lum[\"lum_lib\"] = grav_lum[\"lum\"].map(lum_dict)\n",
    "\n",
    "grav_col = usagers.groupby(\"Num_Acc\").agg(mean_grav=(\"grav\", \"mean\")).reset_index()\n",
    "grav_col = grav_col.merge(carac[[\"Num_Acc\", \"col\"]], on=\"Num_Acc\", how=\"left\")\n",
    "grav_col = grav_col.groupby(\"col\").agg(mean_grav=(\"mean_grav\", \"mean\"), nb_acc=(\"Num_Acc\", \"count\")).reset_index()\n",
    "grav_col[\"col_lib\"] = grav_col[\"col\"].map(col_dict)\n",
    "\n",
    "veh_agg = pd.merge(vehicules, carac[[\"Num_Acc\", \"agg\"]], on=\"Num_Acc\", how=\"left\")\n",
    "agg_freq = veh_agg.groupby(\"agg\").agg(\n",
    "    accidents=(\"Num_Acc\", \"nunique\"),\n",
    "    vehicules=(\"Num_Acc\", \"count\")\n",
    ").reset_index()\n",
    "agg_freq[\"freq_per_100_veh\"] = agg_freq[\"accidents\"] / agg_freq[\"vehicules\"] * 100\n",
    "agg_freq[\"zone\"] = agg_freq[\"agg\"].map(agg_dict)\n"
   ]
  },
  {
   "cell_type": "code",
   "execution_count": 38,
   "id": "d7a2c34a-80db-492e-9fca-fe2b67cbff96",
   "metadata": {},
   "outputs": [
    {
     "data": {
      "text/html": [
       "<div>\n",
       "<style scoped>\n",
       "    .dataframe tbody tr th:only-of-type {\n",
       "        vertical-align: middle;\n",
       "    }\n",
       "\n",
       "    .dataframe tbody tr th {\n",
       "        vertical-align: top;\n",
       "    }\n",
       "\n",
       "    .dataframe thead th {\n",
       "        text-align: right;\n",
       "    }\n",
       "</style>\n",
       "<table border=\"1\" class=\"dataframe\">\n",
       "  <thead>\n",
       "    <tr style=\"text-align: right;\">\n",
       "      <th></th>\n",
       "      <th>lum_lib</th>\n",
       "      <th>mean_grav</th>\n",
       "      <th>nb_acc</th>\n",
       "    </tr>\n",
       "  </thead>\n",
       "  <tbody>\n",
       "    <tr>\n",
       "      <th>0</th>\n",
       "      <td>NaN</td>\n",
       "      <td>3.000000</td>\n",
       "      <td>2</td>\n",
       "    </tr>\n",
       "    <tr>\n",
       "      <th>3</th>\n",
       "      <td>Nuit sans éclairage public</td>\n",
       "      <td>2.756346</td>\n",
       "      <td>5913</td>\n",
       "    </tr>\n",
       "    <tr>\n",
       "      <th>4</th>\n",
       "      <td>Nuit avec éclairage non allumé</td>\n",
       "      <td>2.722728</td>\n",
       "      <td>649</td>\n",
       "    </tr>\n",
       "    <tr>\n",
       "      <th>5</th>\n",
       "      <td>Nuit avec éclairage allumé</td>\n",
       "      <td>2.669300</td>\n",
       "      <td>8498</td>\n",
       "    </tr>\n",
       "    <tr>\n",
       "      <th>2</th>\n",
       "      <td>Crépuscule ou aube</td>\n",
       "      <td>2.627293</td>\n",
       "      <td>3643</td>\n",
       "    </tr>\n",
       "    <tr>\n",
       "      <th>1</th>\n",
       "      <td>Plein jour</td>\n",
       "      <td>2.578144</td>\n",
       "      <td>36117</td>\n",
       "    </tr>\n",
       "  </tbody>\n",
       "</table>\n",
       "</div>"
      ],
      "text/plain": [
       "                          lum_lib  mean_grav  nb_acc\n",
       "0                             NaN   3.000000       2\n",
       "3      Nuit sans éclairage public   2.756346    5913\n",
       "4  Nuit avec éclairage non allumé   2.722728     649\n",
       "5      Nuit avec éclairage allumé   2.669300    8498\n",
       "2              Crépuscule ou aube   2.627293    3643\n",
       "1                      Plein jour   2.578144   36117"
      ]
     },
     "metadata": {},
     "output_type": "display_data"
    },
    {
     "data": {
      "text/html": [
       "<div>\n",
       "<style scoped>\n",
       "    .dataframe tbody tr th:only-of-type {\n",
       "        vertical-align: middle;\n",
       "    }\n",
       "\n",
       "    .dataframe tbody tr th {\n",
       "        vertical-align: top;\n",
       "    }\n",
       "\n",
       "    .dataframe thead th {\n",
       "        text-align: right;\n",
       "    }\n",
       "</style>\n",
       "<table border=\"1\" class=\"dataframe\">\n",
       "  <thead>\n",
       "    <tr style=\"text-align: right;\">\n",
       "      <th></th>\n",
       "      <th>col_lib</th>\n",
       "      <th>mean_grav</th>\n",
       "      <th>nb_acc</th>\n",
       "    </tr>\n",
       "  </thead>\n",
       "  <tbody>\n",
       "    <tr>\n",
       "      <th>7</th>\n",
       "      <td>Obstacle fixe</td>\n",
       "      <td>3.253504</td>\n",
       "      <td>5198</td>\n",
       "    </tr>\n",
       "    <tr>\n",
       "      <th>0</th>\n",
       "      <td>NaN</td>\n",
       "      <td>3.047436</td>\n",
       "      <td>13</td>\n",
       "    </tr>\n",
       "    <tr>\n",
       "      <th>6</th>\n",
       "      <td>Piéton</td>\n",
       "      <td>2.729786</td>\n",
       "      <td>16625</td>\n",
       "    </tr>\n",
       "    <tr>\n",
       "      <th>1</th>\n",
       "      <td>Deux véhicules - frontale</td>\n",
       "      <td>2.612411</td>\n",
       "      <td>5873</td>\n",
       "    </tr>\n",
       "    <tr>\n",
       "      <th>2</th>\n",
       "      <td>Deux véhicules - arrière</td>\n",
       "      <td>2.471608</td>\n",
       "      <td>7269</td>\n",
       "    </tr>\n",
       "    <tr>\n",
       "      <th>3</th>\n",
       "      <td>Deux véhicules - angle</td>\n",
       "      <td>2.444168</td>\n",
       "      <td>16376</td>\n",
       "    </tr>\n",
       "    <tr>\n",
       "      <th>5</th>\n",
       "      <td>Autre collision</td>\n",
       "      <td>2.274899</td>\n",
       "      <td>1625</td>\n",
       "    </tr>\n",
       "    <tr>\n",
       "      <th>4</th>\n",
       "      <td>Trois véhicules et plus</td>\n",
       "      <td>2.211532</td>\n",
       "      <td>1843</td>\n",
       "    </tr>\n",
       "  </tbody>\n",
       "</table>\n",
       "</div>"
      ],
      "text/plain": [
       "                     col_lib  mean_grav  nb_acc\n",
       "7              Obstacle fixe   3.253504    5198\n",
       "0                        NaN   3.047436      13\n",
       "6                     Piéton   2.729786   16625\n",
       "1  Deux véhicules - frontale   2.612411    5873\n",
       "2   Deux véhicules - arrière   2.471608    7269\n",
       "3     Deux véhicules - angle   2.444168   16376\n",
       "5            Autre collision   2.274899    1625\n",
       "4    Trois véhicules et plus   2.211532    1843"
      ]
     },
     "metadata": {},
     "output_type": "display_data"
    },
    {
     "data": {
      "text/html": [
       "<div>\n",
       "<style scoped>\n",
       "    .dataframe tbody tr th:only-of-type {\n",
       "        vertical-align: middle;\n",
       "    }\n",
       "\n",
       "    .dataframe tbody tr th {\n",
       "        vertical-align: top;\n",
       "    }\n",
       "\n",
       "    .dataframe thead th {\n",
       "        text-align: right;\n",
       "    }\n",
       "</style>\n",
       "<table border=\"1\" class=\"dataframe\">\n",
       "  <thead>\n",
       "    <tr style=\"text-align: right;\">\n",
       "      <th></th>\n",
       "      <th>zone</th>\n",
       "      <th>freq_per_100_veh</th>\n",
       "      <th>accidents</th>\n",
       "    </tr>\n",
       "  </thead>\n",
       "  <tbody>\n",
       "    <tr>\n",
       "      <th>1</th>\n",
       "      <td>En agglomération</td>\n",
       "      <td>60.174602</td>\n",
       "      <td>34326</td>\n",
       "    </tr>\n",
       "    <tr>\n",
       "      <th>0</th>\n",
       "      <td>Hors agglomération</td>\n",
       "      <td>56.090419</td>\n",
       "      <td>20496</td>\n",
       "    </tr>\n",
       "  </tbody>\n",
       "</table>\n",
       "</div>"
      ],
      "text/plain": [
       "                 zone  freq_per_100_veh  accidents\n",
       "1    En agglomération         60.174602      34326\n",
       "0  Hors agglomération         56.090419      20496"
      ]
     },
     "metadata": {},
     "output_type": "display_data"
    }
   ],
   "source": [
    "display(grav_lum[[\"lum_lib\", \"mean_grav\", \"nb_acc\"]].sort_values(\"mean_grav\", ascending=False))\n",
    "display(grav_col[[\"col_lib\", \"mean_grav\", \"nb_acc\"]].sort_values(\"mean_grav\", ascending=False))\n",
    "display(agg_freq[[\"zone\", \"freq_per_100_veh\", \"accidents\"]].sort_values(\"freq_per_100_veh\", ascending=False))\n"
   ]
  },
  {
   "cell_type": "code",
   "execution_count": null,
   "id": "a745fa9a-6387-4251-9604-79471b6f7ef9",
   "metadata": {},
   "outputs": [],
   "source": []
  }
 ],
 "metadata": {
  "kernelspec": {
   "display_name": "Python 3 (ipykernel)",
   "language": "python",
   "name": "python3"
  },
  "language_info": {
   "codemirror_mode": {
    "name": "ipython",
    "version": 3
   },
   "file_extension": ".py",
   "mimetype": "text/x-python",
   "name": "python",
   "nbconvert_exporter": "python",
   "pygments_lexer": "ipython3",
   "version": "3.8.8"
  }
 },
 "nbformat": 4,
 "nbformat_minor": 5
}
