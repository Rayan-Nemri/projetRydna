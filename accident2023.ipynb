{
 "cells": [
  {
   "cell_type": "code",
   "execution_count": 3,
   "id": "0a312998-5a03-4c54-b425-ae4f9120c7bd",
   "metadata": {},
   "outputs": [],
   "source": [
    "import pandas as pd"
   ]
  },
  {
   "cell_type": "code",
   "execution_count": 4,
   "id": "ce6f7293-c60c-4142-b874-61c04d13f098",
   "metadata": {},
   "outputs": [
    {
     "data": {
      "text/html": [
       "<div>\n",
       "<style scoped>\n",
       "    .dataframe tbody tr th:only-of-type {\n",
       "        vertical-align: middle;\n",
       "    }\n",
       "\n",
       "    .dataframe tbody tr th {\n",
       "        vertical-align: top;\n",
       "    }\n",
       "\n",
       "    .dataframe thead th {\n",
       "        text-align: right;\n",
       "    }\n",
       "</style>\n",
       "<table border=\"1\" class=\"dataframe\">\n",
       "  <thead>\n",
       "    <tr style=\"text-align: right;\">\n",
       "      <th></th>\n",
       "      <th>Num_Acc</th>\n",
       "      <th>jour</th>\n",
       "      <th>mois</th>\n",
       "      <th>an</th>\n",
       "      <th>hrmn</th>\n",
       "      <th>lum</th>\n",
       "      <th>dep</th>\n",
       "      <th>com</th>\n",
       "      <th>agg</th>\n",
       "      <th>int</th>\n",
       "      <th>atm</th>\n",
       "      <th>col</th>\n",
       "      <th>adr</th>\n",
       "      <th>lat</th>\n",
       "      <th>long</th>\n",
       "    </tr>\n",
       "  </thead>\n",
       "  <tbody>\n",
       "    <tr>\n",
       "      <th>0</th>\n",
       "      <td>202300000001</td>\n",
       "      <td>7</td>\n",
       "      <td>5</td>\n",
       "      <td>2023</td>\n",
       "      <td>06:00</td>\n",
       "      <td>1</td>\n",
       "      <td>75</td>\n",
       "      <td>75101</td>\n",
       "      <td>2</td>\n",
       "      <td>4</td>\n",
       "      <td>2</td>\n",
       "      <td>7</td>\n",
       "      <td>RUE DE RIVOLI</td>\n",
       "      <td>48,86638600</td>\n",
       "      <td>2,32347100</td>\n",
       "    </tr>\n",
       "    <tr>\n",
       "      <th>1</th>\n",
       "      <td>202300000002</td>\n",
       "      <td>7</td>\n",
       "      <td>5</td>\n",
       "      <td>2023</td>\n",
       "      <td>05:30</td>\n",
       "      <td>5</td>\n",
       "      <td>94</td>\n",
       "      <td>94080</td>\n",
       "      <td>2</td>\n",
       "      <td>1</td>\n",
       "      <td>3</td>\n",
       "      <td>6</td>\n",
       "      <td>Avenue de Paris</td>\n",
       "      <td>48,84547782</td>\n",
       "      <td>2,42868146</td>\n",
       "    </tr>\n",
       "    <tr>\n",
       "      <th>2</th>\n",
       "      <td>202300000003</td>\n",
       "      <td>7</td>\n",
       "      <td>5</td>\n",
       "      <td>2023</td>\n",
       "      <td>20:50</td>\n",
       "      <td>1</td>\n",
       "      <td>94</td>\n",
       "      <td>94022</td>\n",
       "      <td>2</td>\n",
       "      <td>3</td>\n",
       "      <td>2</td>\n",
       "      <td>1</td>\n",
       "      <td>Avenue du GÃ©nÃ©ral Leclerc</td>\n",
       "      <td>48,76240000</td>\n",
       "      <td>2,40655000</td>\n",
       "    </tr>\n",
       "    <tr>\n",
       "      <th>3</th>\n",
       "      <td>202300000004</td>\n",
       "      <td>6</td>\n",
       "      <td>5</td>\n",
       "      <td>2023</td>\n",
       "      <td>23:57</td>\n",
       "      <td>5</td>\n",
       "      <td>94</td>\n",
       "      <td>94078</td>\n",
       "      <td>2</td>\n",
       "      <td>1</td>\n",
       "      <td>3</td>\n",
       "      <td>5</td>\n",
       "      <td>Rue de Paris</td>\n",
       "      <td>48,73248432</td>\n",
       "      <td>2,44687575</td>\n",
       "    </tr>\n",
       "    <tr>\n",
       "      <th>4</th>\n",
       "      <td>202300000005</td>\n",
       "      <td>7</td>\n",
       "      <td>5</td>\n",
       "      <td>2023</td>\n",
       "      <td>00:50</td>\n",
       "      <td>5</td>\n",
       "      <td>94</td>\n",
       "      <td>94068</td>\n",
       "      <td>2</td>\n",
       "      <td>2</td>\n",
       "      <td>3</td>\n",
       "      <td>3</td>\n",
       "      <td>56bis Avenue Raspail</td>\n",
       "      <td>48,78581000</td>\n",
       "      <td>2,49217000</td>\n",
       "    </tr>\n",
       "  </tbody>\n",
       "</table>\n",
       "</div>"
      ],
      "text/plain": [
       "        Num_Acc  jour  mois    an   hrmn  lum dep    com  agg  int  atm  col  \\\n",
       "0  202300000001     7     5  2023  06:00    1  75  75101    2    4    2    7   \n",
       "1  202300000002     7     5  2023  05:30    5  94  94080    2    1    3    6   \n",
       "2  202300000003     7     5  2023  20:50    1  94  94022    2    3    2    1   \n",
       "3  202300000004     6     5  2023  23:57    5  94  94078    2    1    3    5   \n",
       "4  202300000005     7     5  2023  00:50    5  94  94068    2    2    3    3   \n",
       "\n",
       "                           adr          lat        long  \n",
       "0                RUE DE RIVOLI  48,86638600  2,32347100  \n",
       "1              Avenue de Paris  48,84547782  2,42868146  \n",
       "2  Avenue du GÃ©nÃ©ral Leclerc  48,76240000  2,40655000  \n",
       "3                 Rue de Paris  48,73248432  2,44687575  \n",
       "4         56bis Avenue Raspail  48,78581000  2,49217000  "
      ]
     },
     "execution_count": 4,
     "metadata": {},
     "output_type": "execute_result"
    }
   ],
   "source": [
    "carac = pd.read_csv(\"caract-2023.csv\", sep=\";\", encoding=\"latin1\")\n",
    "usagers = pd.read_csv(\"usagers-2023.csv\", sep=\";\", encoding=\"latin1\")\n",
    "vehicules = pd.read_csv(\"vehicules-2023.csv\", sep=\";\", encoding=\"latin1\")\n",
    "carac.head()"
   ]
  },
  {
   "cell_type": "code",
   "execution_count": 5,
   "id": "18fad47f-da7f-42f3-b124-e21f5375cc11",
   "metadata": {},
   "outputs": [],
   "source": [
    "carac[\"date\"] = pd.to_datetime(\n",
    "    dict(year=carac[\"an\"], month=carac[\"mois\"], day=carac[\"jour\"]),\n",
    "    errors=\"coerce\"\n",
    ")"
   ]
  },
  {
   "cell_type": "code",
   "execution_count": 6,
   "id": "d68b5d68-3cb6-45eb-845b-f96d7806e493",
   "metadata": {},
   "outputs": [],
   "source": [
    "if \"hrmn\" in carac.columns:\n",
    "        carac[\"heure\"] = pd.to_datetime(\n",
    "        carac[\"hrmn\"].astype(str).str.zfill(4), format=\"%H%M\", errors=\"coerce\"\n",
    "    ).dt.time\n",
    "else:\n",
    "    carac[\"heure\"] = None\n"
   ]
  },
  {
   "cell_type": "code",
   "execution_count": 7,
   "id": "c505dd97-3520-4ff5-bbce-97212b2e049c",
   "metadata": {},
   "outputs": [],
   "source": [
    "carac = carac[carac[\"date\"].notna()]\n"
   ]
  },
  {
   "cell_type": "code",
   "execution_count": 8,
   "id": "403f9da9-7e7a-47f4-a985-8b8882aaa14b",
   "metadata": {},
   "outputs": [],
   "source": [
    "conditions_dict = {\n",
    "    1: \"Temps normal\", 2: \"Pluie légère\", 3: \"Pluie forte\", 4: \"Neige\",\n",
    "    5: \"Brouillard\", 6: \"Vent fort\", 7: \"Éblouissement\", 8: \"Temps couvert\", 9: \"Inconnu\"\n",
    "}\n"
   ]
  },
  {
   "cell_type": "code",
   "execution_count": 9,
   "id": "e2d39fdd-2437-4601-916c-29130ff458b8",
   "metadata": {},
   "outputs": [],
   "source": [
    "carac[\"conditions_meteo\"] = carac[\"atm\"].map(conditions_dict)"
   ]
  },
  {
   "cell_type": "code",
   "execution_count": 10,
   "id": "d27d4ad8-feac-4c75-baa3-c1f222a50a32",
   "metadata": {},
   "outputs": [],
   "source": [
    "if \"grav\" in carac.columns:\n",
    "    carac = carac[carac[\"grav\"] >= 1]\n"
   ]
  },
  {
   "cell_type": "code",
   "execution_count": 11,
   "id": "3ecaa6fe-aa61-44ee-a991-b12b04e5b5f4",
   "metadata": {},
   "outputs": [],
   "source": [
    "merged = pd.merge(carac, usagers, on=\"Num_Acc\", how=\"left\")\n"
   ]
  },
  {
   "cell_type": "code",
   "execution_count": 12,
   "id": "dd9453c9-60d7-4abe-906a-8c72cd2df1ca",
   "metadata": {},
   "outputs": [],
   "source": [
    "final = pd.merge(merged, vehicules, on=[\"Num_Acc\", \"num_veh\"], how=\"left\")\n"
   ]
  },
  {
   "cell_type": "code",
   "execution_count": 13,
   "id": "c3499906-c30a-43c7-b169-f55b76984664",
   "metadata": {},
   "outputs": [
    {
     "name": "stdout",
     "output_type": "stream",
     "text": [
      "     an  mois  jour       date\n",
      "0  2023     5     7 2023-05-07\n",
      "1  2023     5     7 2023-05-07\n",
      "2  2023     5     7 2023-05-07\n",
      "3  2023     5     6 2023-05-06\n",
      "4  2023     5     7 2023-05-07\n"
     ]
    }
   ],
   "source": [
    "print(carac[[\"an\", \"mois\", \"jour\", \"date\"]].head())\n"
   ]
  },
  {
   "cell_type": "code",
   "execution_count": 14,
   "id": "21c93aa0-8516-4a46-8492-230ec6ee5906",
   "metadata": {},
   "outputs": [
    {
     "name": "stdout",
     "output_type": "stream",
     "text": [
      "Dates manquantes : 0\n"
     ]
    }
   ],
   "source": [
    "print(\"Dates manquantes :\", carac[\"date\"].isna().sum())\n"
   ]
  },
  {
   "cell_type": "code",
   "execution_count": 15,
   "id": "68522239-74ce-463d-953b-e2bb8c5c77b9",
   "metadata": {},
   "outputs": [
    {
     "name": "stdout",
     "output_type": "stream",
     "text": [
      "0    06:00\n",
      "1    05:30\n",
      "2    20:50\n",
      "3    23:57\n",
      "4    00:50\n",
      "Name: hrmn, dtype: object\n"
     ]
    }
   ],
   "source": [
    "\n",
    "print(carac[\"hrmn\"].head())\n"
   ]
  },
  {
   "cell_type": "code",
   "execution_count": 16,
   "id": "a758ea97-b805-48a1-88f6-f96736596ab1",
   "metadata": {},
   "outputs": [
    {
     "name": "stdout",
     "output_type": "stream",
     "text": [
      "      atm conditions_meteo\n",
      "0       2     Pluie légère\n",
      "1       3      Pluie forte\n",
      "8       8    Temps couvert\n",
      "13      1     Temps normal\n",
      "36      5       Brouillard\n",
      "40      7    Éblouissement\n",
      "457     9          Inconnu\n",
      "1018    6        Vent fort\n",
      "1548    4            Neige\n",
      "6434   -1              NaN\n"
     ]
    }
   ],
   "source": [
    "\n",
    "print(carac[[\"atm\", \"conditions_meteo\"]].drop_duplicates())\n",
    "\n",
    "\n"
   ]
  },
  {
   "cell_type": "code",
   "execution_count": 17,
   "id": "6e327a71-9a51-4e48-b661-1e3c9ec8f3b1",
   "metadata": {},
   "outputs": [
    {
     "name": "stdout",
     "output_type": "stream",
     "text": [
      "        Num_Acc  jour  mois    an   hrmn  lum dep    com  agg  int  ...  \\\n",
      "0  202300000001     7     5  2023  06:00    1  75  75101    2    4  ...   \n",
      "1  202300000002     7     5  2023  05:30    5  94  94080    2    1  ...   \n",
      "2  202300000002     7     5  2023  05:30    5  94  94080    2    1  ...   \n",
      "3  202300000003     7     5  2023  20:50    1  94  94022    2    3  ...   \n",
      "4  202300000003     7     5  2023  20:50    1  94  94022    2    3  ...   \n",
      "\n",
      "   etatp  id_vehicule_y senc catv obs obsm choc manv motor occutc  \n",
      "0     -1  155Â 680Â 557    1   30   0    0    5    1     1    NaN  \n",
      "1     -1  155Â 680Â 556    2    7   0    1    1    1     1    NaN  \n",
      "2      1  155Â 680Â 556    2    7   0    1    1    1     1    NaN  \n",
      "3     -1  155Â 680Â 554    1    2   0    2    1   16     1    NaN  \n",
      "4     -1  155Â 680Â 555    2    7   0    2    2   15     1    NaN  \n",
      "\n",
      "[5 rows x 42 columns]\n",
      "(125789, 42)\n"
     ]
    }
   ],
   "source": [
    "print(final.head())\n",
    "print(final.shape)\n"
   ]
  },
  {
   "cell_type": "code",
   "execution_count": 18,
   "id": "e0d4f4cd-bdae-4b4c-9f0b-f6a5163dea59",
   "metadata": {},
   "outputs": [
    {
     "name": "stdout",
     "output_type": "stream",
     "text": [
      "Nombre total d'accident different cette annee est de : 54822\n"
     ]
    }
   ],
   "source": [
    "print(\"Nombre total d'accident different cette annee est de :\",final[\"Num_Acc\"].nunique())\n"
   ]
  },
  {
   "cell_type": "code",
   "execution_count": 19,
   "id": "dd58b74a-4a2e-4fed-a015-62f714c33478",
   "metadata": {},
   "outputs": [
    {
     "data": {
      "text/plain": [
       "mois\n",
       "1     4053\n",
       "2     3682\n",
       "3     3998\n",
       "4     4162\n",
       "5     4767\n",
       "6     5452\n",
       "7     4754\n",
       "8     4121\n",
       "9     5161\n",
       "10    5389\n",
       "11    4833\n",
       "12    4450\n",
       "Name: Num_Acc, dtype: int64"
      ]
     },
     "execution_count": 19,
     "metadata": {},
     "output_type": "execute_result"
    }
   ],
   "source": [
    "final[\"mois\"] = final[\"date\"].dt.month\n",
    "final.groupby(\"mois\")[\"Num_Acc\"].nunique()\n"
   ]
  },
  {
   "cell_type": "code",
   "execution_count": 20,
   "id": "5a806e05-8370-4b32-a2a6-0b5ee91fd738",
   "metadata": {},
   "outputs": [
    {
     "data": {
      "text/plain": [
       "dep\n",
       "75     4763\n",
       "93     2650\n",
       "92     2563\n",
       "94     2204\n",
       "13     2057\n",
       "       ... \n",
       "90       37\n",
       "978      30\n",
       "986      10\n",
       "977       7\n",
       "975       2\n",
       "Name: Num_Acc, Length: 107, dtype: int64"
      ]
     },
     "execution_count": 20,
     "metadata": {},
     "output_type": "execute_result"
    }
   ],
   "source": [
    "final.groupby(\"dep\")[\"Num_Acc\"].nunique().sort_values(ascending=False)\n"
   ]
  },
  {
   "cell_type": "code",
   "execution_count": 21,
   "id": "fe35391e-17ea-4720-8cdd-0d0b56a439ff",
   "metadata": {},
   "outputs": [
    {
     "data": {
      "text/plain": [
       " 1    98463\n",
       " 2    14974\n",
       " 8     5017\n",
       " 3     3437\n",
       " 7     2180\n",
       " 5      509\n",
       " 9      475\n",
       " 6      432\n",
       " 4      295\n",
       "-1        7\n",
       "Name: atm, dtype: int64"
      ]
     },
     "execution_count": 21,
     "metadata": {},
     "output_type": "execute_result"
    }
   ],
   "source": [
    "final[\"atm\"].value_counts()\n",
    "final[\"atm\"].value_counts()\n"
   ]
  },
  {
   "cell_type": "code",
   "execution_count": 22,
   "id": "6f580ba5-1357-4e1c-bc8e-22b8f5e6bc56",
   "metadata": {},
   "outputs": [
    {
     "data": {
      "text/plain": [
       " 1    82988\n",
       " 5    19367\n",
       " 3    13826\n",
       " 2     8169\n",
       " 4     1436\n",
       "-1        3\n",
       "Name: lum, dtype: int64"
      ]
     },
     "execution_count": 22,
     "metadata": {},
     "output_type": "execute_result"
    }
   ],
   "source": [
    "final[\"lum\"].value_counts()\n"
   ]
  },
  {
   "cell_type": "code",
   "execution_count": 23,
   "id": "642517c9-9c7c-41a4-b614-9695f4bd3ca2",
   "metadata": {},
   "outputs": [
    {
     "data": {
      "text/plain": [
       "2    76061\n",
       "1    49728\n",
       "Name: agg, dtype: int64"
      ]
     },
     "execution_count": 23,
     "metadata": {},
     "output_type": "execute_result"
    }
   ],
   "source": [
    "final[\"agg\"].value_counts()\n"
   ]
  },
  {
   "cell_type": "code",
   "execution_count": 24,
   "id": "235565cc-0fd1-45bf-8ece-e60381fb0ba0",
   "metadata": {},
   "outputs": [
    {
     "name": "stdout",
     "output_type": "stream",
     "text": [
      "Température à midi : 13.1 °C\n",
      "Précipitation à midi : 0.0 mm\n"
     ]
    }
   ],
   "source": [
    "import requests\n",
    "\n",
    "\n",
    "date = \"2022-05-01\"\n",
    "latitude = 48.8566    # Paris\n",
    "longitude = 2.3522\n",
    "\n",
    "\n",
    "url = f\"https://archive-api.open-meteo.com/v1/archive?latitude={latitude}&longitude={longitude}&start_date={date}&end_date={date}&hourly=temperature_2m,precipitation,weathercode&timezone=Europe%2FParis\"\n",
    "\n",
    "response = requests.get(url)\n",
    "\n",
    "\n",
    "if response.status_code == 200:\n",
    "    data = response.json()\n",
    "   \n",
    "    heures = data[\"hourly\"][\"time\"]\n",
    "    temperatures = data[\"hourly\"][\"temperature_2m\"]\n",
    "    precipitations = data[\"hourly\"][\"precipitation\"]\n",
    "\n",
    "    for i in range(len(heures)):\n",
    "        if \"T12:00\" in heures[i]:  # On cherche 12h\n",
    "            print(\"Température à midi :\", temperatures[i], \"°C\")\n",
    "            print(\"Précipitation à midi :\", precipitations[i], \"mm\")\n",
    "            break\n",
    "else:\n",
    "    print(\"Erreur lors de l'appel à l'API météo\")"
   ]
  },
  {
   "cell_type": "code",
   "execution_count": 25,
   "id": "50163ed0-ad66-4914-88e1-f19e676acec7",
   "metadata": {},
   "outputs": [
    {
     "name": "stderr",
     "output_type": "stream",
     "text": [
      "100%|█████████████████████████████████████████| 100/100 [00:35<00:00,  2.83it/s]\n"
     ]
    }
   ],
   "source": [
    "import pandas as pd\n",
    "import requests\n",
    "from tqdm import tqdm\n",
    "\n",
    "# Extrait un sous-échantillon de 100 accidents\n",
    "df_sample = final[[\"date\", \"lat\", \"long\"]].dropna().head(100).copy()\n",
    "\n",
    "# Créer les colonnes météo\n",
    "df_sample[\"temp_max\"] = None\n",
    "df_sample[\"precip_mm\"] = None\n",
    "\n",
    "# Parcours de chaque ligne et appel API Open-Meteo\n",
    "for idx, row in tqdm(df_sample.iterrows(), total=len(df_sample)):\n",
    "    date = row[\"date\"].strftime(\"%Y-%m-%d\")\n",
    "    lat = row[\"lat\"]\n",
    "    lon = row[\"long\"]\n",
    "\n",
    "    url = (\n",
    "        f\"https://archive-api.open-meteo.com/v1/archive?\"\n",
    "        f\"latitude={lat}&longitude={lon}\"\n",
    "        f\"&start_date={date}&end_date={date}\"\n",
    "        f\"&daily=temperature_2m_max,precipitation_sum\"\n",
    "        f\"&timezone=Europe%2FParis\"\n",
    "    )\n",
    "\n",
    "    try:\n",
    "        response = requests.get(url)\n",
    "        data = response.json()\n",
    "        daily = data.get(\"daily\", {})\n",
    "        df_sample.at[idx, \"temp_max\"] = daily.get(\"temperature_2m_max\", [None])[0]\n",
    "        df_sample.at[idx, \"precip_mm\"] = daily.get(\"precipitation_sum\", [None])[0]\n",
    "    except Exception as e:\n",
    "        print(f\"Erreur pour l'index {idx} : {e}\")\n"
   ]
  },
  {
   "cell_type": "code",
   "execution_count": 26,
   "id": "c5139666-8786-4311-b3db-7fd339a691e2",
   "metadata": {},
   "outputs": [
    {
     "name": "stderr",
     "output_type": "stream",
     "text": [
      "100%|███████████████████████████████████████████| 50/50 [00:16<00:00,  3.06it/s]"
     ]
    },
    {
     "name": "stdout",
     "output_type": "stream",
     "text": [
      "         date          lat        long temp_max precip_mm\n",
      "0  2023-05-07  48,86638600  2,32347100     None      None\n",
      "1  2023-05-07  48,84547782  2,42868146     None      None\n",
      "2  2023-05-07  48,84547782  2,42868146     None      None\n",
      "3  2023-05-07  48,76240000  2,40655000     None      None\n",
      "4  2023-05-07  48,76240000  2,40655000     None      None\n",
      "5  2023-05-06  48,73248432  2,44687575     None      None\n",
      "6  2023-05-06  48,73248432  2,44687575     None      None\n",
      "7  2023-05-06  48,73248432  2,44687575     None      None\n",
      "8  2023-05-06  48,73248432  2,44687575     None      None\n",
      "9  2023-05-06  48,73248432  2,44687575     None      None\n",
      "10 2023-05-07  48,78581000  2,49217000     None      None\n",
      "11 2023-05-07  48,78581000  2,49217000     None      None\n",
      "12 2023-05-07  48,83717000  2,51361000     None      None\n",
      "13 2023-05-07  48,83717000  2,51361000     None      None\n",
      "14 2023-05-07  48,78693219  2,36756095     None      None\n",
      "15 2023-05-07  48,78693219  2,36756095     None      None\n",
      "16 2023-05-07  48,78693219  2,36756095     None      None\n",
      "17 2023-05-07  48,78693219  2,36756095     None      None\n",
      "18 2023-05-07  48,78238000  2,49510000     None      None\n",
      "19 2023-05-07  48,78238000  2,49510000     None      None\n",
      "20 2023-05-07  48,78238000  2,49510000     None      None\n",
      "21 2023-05-07  48,76240184  2,40690601     None      None\n",
      "22 2023-05-07  48,76240184  2,40690601     None      None\n",
      "23 2023-05-07  48,83266000  2,54378000     None      None\n",
      "24 2023-05-07  48,83266000  2,54378000     None      None\n",
      "25 2023-05-07  48,99572240  2,51560628     None      None\n",
      "26 2023-05-07  48,99572240  2,51560628     None      None\n",
      "27 2023-05-07  48,99572240  2,51560628     None      None\n",
      "28 2023-05-07  48,99572240  2,51560628     None      None\n",
      "29 2023-05-06  48,83611000  2,56460000     None      None\n",
      "30 2023-05-06  48,83611000  2,56460000     None      None\n",
      "31 2023-05-07  48,95859534  2,41581470     None      None\n",
      "32 2023-05-07  48,95859534  2,41581470     None      None\n",
      "33 2023-05-07  48,94211000  2,42916000     None      None\n",
      "34 2023-05-07  48,90631671  2,48228681     None      None\n",
      "35 2023-05-07  48,90631671  2,48228681     None      None\n",
      "36 2023-05-07  48,90631671  2,48228681     None      None\n",
      "37 2023-05-07  48,90631671  2,48228681     None      None\n",
      "38 2023-05-07  48,88677185  2,20519647     None      None\n",
      "39 2023-05-07  48,88677185  2,20519647     None      None\n",
      "40 2023-05-07  48,88677185  2,20519647     None      None\n",
      "41 2023-05-07  48,88677185  2,20519647     None      None\n",
      "42 2023-05-07  48,88677185  2,20519647     None      None\n",
      "43 2023-05-07  48,88677185  2,20519647     None      None\n",
      "44 2023-05-07  48,88677185  2,20519647     None      None\n",
      "45 2023-05-07  48,80202300  2,31800600     None      None\n",
      "46 2023-05-07  48,80202300  2,31800600     None      None\n",
      "47 2023-05-07  46,08672900  5,11126600     None      None\n",
      "48 2023-05-07  46,08672900  5,11126600     None      None\n",
      "49 2023-05-07  46,08672900  5,11126600     None      None\n"
     ]
    },
    {
     "name": "stderr",
     "output_type": "stream",
     "text": [
      "\n"
     ]
    }
   ],
   "source": [
    "import requests\n",
    "from tqdm import tqdm\n",
    "\n",
    "# Sous-échantillon (5 accidents avec coordonnées valides)\n",
    "df_test = final[[\"date\", \"lat\", \"long\"]].dropna().head(50).copy()\n",
    "df_test[\"temp_max\"] = None\n",
    "df_test[\"precip_mm\"] = None\n",
    "\n",
    "# Boucle API\n",
    "for idx, row in tqdm(df_test.iterrows(), total=len(df_test)):\n",
    "    date = row[\"date\"].strftime(\"%Y-%m-%d\")\n",
    "    lat = row[\"lat\"]\n",
    "    lon = row[\"long\"]\n",
    "\n",
    "    url = (\n",
    "        f\"https://archive-api.open-meteo.com/v1/archive?\"\n",
    "        f\"latitude={lat}&longitude={lon}\"\n",
    "        f\"&start_date={date}&end_date={date}\"\n",
    "        f\"&daily=temperature_2m_max,precipitation_sum\"\n",
    "        f\"&timezone=Europe%2FParis\"\n",
    "    )\n",
    "\n",
    "    try:\n",
    "        response = requests.get(url)\n",
    "        data = response.json()\n",
    "        daily = data.get(\"daily\", {})\n",
    "        df_test.at[idx, \"temp_max\"] = daily.get(\"temperature_2m_max\", [None])[0]\n",
    "        df_test.at[idx, \"precip_mm\"] = daily.get(\"precipitation_sum\", [None])[0]\n",
    "    except Exception as e:\n",
    "        print(f\"Erreur ligne {idx} : {e}\")\n",
    "\n",
    "# Afficher le résultat\n",
    "print(df_test)\n",
    "\n"
   ]
  },
  {
   "cell_type": "code",
   "execution_count": 27,
   "id": "3f18c5ed-c974-427f-8741-2973f5468ae6",
   "metadata": {},
   "outputs": [
    {
     "data": {
      "image/png": "[encoded data removed]",
      "text/plain": [
       "<Figure size 800x500 with 1 Axes>"
      ]
     },
     "metadata": {},
     "output_type": "display_data"
    }
   ],
   "source": [
    "import pandas as pd\n",
    "import matplotlib.pyplot as plt\n",
    "\n",
    "\n",
    "usagers = pd.read_csv(\"usagers-2023.csv\", sep=';')\n",
    "\n",
    "\n",
    "gravite_labels = {\n",
    "    1: 'Indemne',\n",
    "    2: 'Tué',\n",
    "    3: 'Blessé hospitalisé',\n",
    "    4: 'Blessé léger'\n",
    "}\n",
    "\n",
    "\n",
    "usagers['gravite'] = usagers['grav'].map(gravite_labels)\n",
    "\n",
    "\n",
    "gravite_counts = usagers['gravite'].value_counts()\n",
    "\n",
    "\n",
    "plt.figure(figsize=(8, 5))\n",
    "gravite_counts.plot(kind='bar')\n",
    "plt.title(\"Répartition des accidents par gravité (2023)\")\n",
    "plt.xlabel(\"Gravité\")\n",
    "plt.ylabel(\"Nombre d’usagers concernés\")\n",
    "plt.grid(axis='y')\n",
    "plt.tight_layout()\n",
    "plt.show()\n"
   ]
  },
  {
   "cell_type": "code",
   "execution_count": 28,
   "id": "e5fc8adb-db61-4010-bfe1-d01aeb8306bc",
   "metadata": {},
   "outputs": [
    {
     "data": {
      "image/png": "[encoded data removed]",
      "text/plain": [
       "<Figure size 600x400 with 1 Axes>"
      ]
     },
     "metadata": {},
     "output_type": "display_data"
    }
   ],
   "source": [
    "carac[\"date\"] = pd.to_datetime(dict(year=carac[\"an\"], month=carac[\"mois\"], day=carac[\"jour\"]), errors=\"coerce\")\n",
    "carac[\"jour_semaine\"] = carac[\"date\"].dt.dayofweek\n",
    "carac[\"type_jour\"] = carac[\"jour_semaine\"].apply(lambda x: \"Week-end\" if x in [5, 6] else \"Semaine\")\n",
    "\n",
    "# Bar chart\n",
    "plt.figure(figsize=(6, 4))\n",
    "carac[\"type_jour\"].value_counts().plot(kind='bar', color=['lightgreen', 'tomato'])\n",
    "plt.title(\"Accidents : semaine vs week-end\")\n",
    "plt.xlabel(\"Type de jour\")\n",
    "plt.ylabel(\"Nombre d'accidents\")\n",
    "plt.tight_layout()\n",
    "plt.show()\n"
   ]
  },
  {
   "cell_type": "code",
   "execution_count": 29,
   "id": "7c22dcd9-7b42-4cd3-96e7-883a1b648a7d",
   "metadata": {},
   "outputs": [],
   "source": [
    "# Charger la population par département\n",
    "pop_df = pd.read_csv(\"donnees_departements.csv\", sep=\";\")\n",
    "\n"
   ]
  },
  {
   "cell_type": "code",
   "execution_count": 30,
   "id": "7c924cc0-98cf-4fd3-8775-0b65ca4ce9ad",
   "metadata": {},
   "outputs": [
    {
     "data": {
      "text/html": [
       "<div>\n",
       "<style scoped>\n",
       "    .dataframe tbody tr th:only-of-type {\n",
       "        vertical-align: middle;\n",
       "    }\n",
       "\n",
       "    .dataframe tbody tr th {\n",
       "        vertical-align: top;\n",
       "    }\n",
       "\n",
       "    .dataframe thead th {\n",
       "        text-align: right;\n",
       "    }\n",
       "</style>\n",
       "<table border=\"1\" class=\"dataframe\">\n",
       "  <thead>\n",
       "    <tr style=\"text-align: right;\">\n",
       "      <th></th>\n",
       "      <th>dep</th>\n",
       "      <th>accidents</th>\n",
       "      <th>population</th>\n",
       "      <th>freq_per_10k_hab</th>\n",
       "      <th>freq_per_100_veh</th>\n",
       "      <th>mean_grav_dep</th>\n",
       "    </tr>\n",
       "  </thead>\n",
       "  <tbody>\n",
       "    <tr>\n",
       "      <th>75</th>\n",
       "      <td>75</td>\n",
       "      <td>4763</td>\n",
       "      <td>2129257.0</td>\n",
       "      <td>22.369305</td>\n",
       "      <td>58.434548</td>\n",
       "      <td>2.650365</td>\n",
       "    </tr>\n",
       "    <tr>\n",
       "      <th>98</th>\n",
       "      <td>973</td>\n",
       "      <td>600</td>\n",
       "      <td>290476.0</td>\n",
       "      <td>20.655751</td>\n",
       "      <td>55.504163</td>\n",
       "      <td>2.667480</td>\n",
       "    </tr>\n",
       "    <tr>\n",
       "      <th>29</th>\n",
       "      <td>2B</td>\n",
       "      <td>346</td>\n",
       "      <td>187843.0</td>\n",
       "      <td>18.419638</td>\n",
       "      <td>56.907895</td>\n",
       "      <td>2.689169</td>\n",
       "    </tr>\n",
       "    <tr>\n",
       "      <th>28</th>\n",
       "      <td>2A</td>\n",
       "      <td>286</td>\n",
       "      <td>168376.0</td>\n",
       "      <td>16.985794</td>\n",
       "      <td>56.972112</td>\n",
       "      <td>2.679670</td>\n",
       "    </tr>\n",
       "    <tr>\n",
       "      <th>93</th>\n",
       "      <td>93</td>\n",
       "      <td>2650</td>\n",
       "      <td>1688205.0</td>\n",
       "      <td>15.697146</td>\n",
       "      <td>55.162365</td>\n",
       "      <td>2.577442</td>\n",
       "    </tr>\n",
       "    <tr>\n",
       "      <th>94</th>\n",
       "      <td>94</td>\n",
       "      <td>2204</td>\n",
       "      <td>1428350.0</td>\n",
       "      <td>15.430392</td>\n",
       "      <td>55.003743</td>\n",
       "      <td>2.620886</td>\n",
       "    </tr>\n",
       "    <tr>\n",
       "      <th>92</th>\n",
       "      <td>92</td>\n",
       "      <td>2563</td>\n",
       "      <td>1663026.0</td>\n",
       "      <td>15.411665</td>\n",
       "      <td>57.376315</td>\n",
       "      <td>2.680699</td>\n",
       "    </tr>\n",
       "    <tr>\n",
       "      <th>97</th>\n",
       "      <td>972</td>\n",
       "      <td>546</td>\n",
       "      <td>364991.0</td>\n",
       "      <td>14.959273</td>\n",
       "      <td>55.828221</td>\n",
       "      <td>2.676242</td>\n",
       "    </tr>\n",
       "    <tr>\n",
       "      <th>96</th>\n",
       "      <td>971</td>\n",
       "      <td>558</td>\n",
       "      <td>388197.0</td>\n",
       "      <td>14.374145</td>\n",
       "      <td>58.185610</td>\n",
       "      <td>2.588385</td>\n",
       "    </tr>\n",
       "    <tr>\n",
       "      <th>4</th>\n",
       "      <td>05</td>\n",
       "      <td>201</td>\n",
       "      <td>145993.0</td>\n",
       "      <td>13.767783</td>\n",
       "      <td>62.229102</td>\n",
       "      <td>2.653068</td>\n",
       "    </tr>\n",
       "  </tbody>\n",
       "</table>\n",
       "</div>"
      ],
      "text/plain": [
       "    dep  accidents  population  freq_per_10k_hab  freq_per_100_veh  \\\n",
       "75   75       4763   2129257.0         22.369305         58.434548   \n",
       "98  973        600    290476.0         20.655751         55.504163   \n",
       "29   2B        346    187843.0         18.419638         56.907895   \n",
       "28   2A        286    168376.0         16.985794         56.972112   \n",
       "93   93       2650   1688205.0         15.697146         55.162365   \n",
       "94   94       2204   1428350.0         15.430392         55.003743   \n",
       "92   92       2563   1663026.0         15.411665         57.376315   \n",
       "97  972        546    364991.0         14.959273         55.828221   \n",
       "96  971        558    388197.0         14.374145         58.185610   \n",
       "4    05        201    145993.0         13.767783         62.229102   \n",
       "\n",
       "    mean_grav_dep  \n",
       "75       2.650365  \n",
       "98       2.667480  \n",
       "29       2.689169  \n",
       "28       2.679670  \n",
       "93       2.577442  \n",
       "94       2.620886  \n",
       "92       2.680699  \n",
       "97       2.676242  \n",
       "96       2.588385  \n",
       "4        2.653068  "
      ]
     },
     "execution_count": 30,
     "metadata": {},
     "output_type": "execute_result"
    }
   ],
   "source": [
    "\n",
    "carac[\"dep\"] = carac[\"dep\"].astype(str).str.zfill(2)\n",
    "pop_df[\"DEP\"] = pop_df[\"DEP\"].astype(str).str.zfill(2)\n",
    "pop_clean = pop_df[[\"DEP\", \"PTOT\"]].rename(columns={\"DEP\": \"dep\", \"PTOT\": \"population\"})\n",
    "\n",
    "\n",
    "acc_per_dep = carac.groupby(\"dep\").agg(accidents=(\"Num_Acc\", \"nunique\")).reset_index()\n",
    "acc_freq_habitant = acc_per_dep.merge(pop_clean, on=\"dep\", how=\"left\")\n",
    "acc_freq_habitant[\"freq_per_10k_hab\"] = acc_freq_habitant[\"accidents\"] / acc_freq_habitant[\"population\"] * 10000\n",
    "\n",
    "\n",
    "vehicules[\"Num_Acc\"] = vehicules[\"Num_Acc\"].astype(str)\n",
    "carac[\"Num_Acc\"] = carac[\"Num_Acc\"].astype(str)\n",
    "veh_caract = pd.merge(vehicules, carac[[\"Num_Acc\", \"dep\"]], on=\"Num_Acc\", how=\"left\")\n",
    "veh_per_dep = veh_caract.groupby(\"dep\").agg(vehicules=(\"Num_Acc\", \"count\")).reset_index()\n",
    "acc_freq_veh = acc_per_dep.merge(veh_per_dep, on=\"dep\", how=\"left\")\n",
    "acc_freq_veh[\"freq_per_100_veh\"] = acc_freq_veh[\"accidents\"] / acc_freq_veh[\"vehicules\"] * 100\n",
    "\n",
    "\n",
    "usagers[\"Num_Acc\"] = usagers[\"Num_Acc\"].astype(str)\n",
    "gravite = usagers.groupby(\"Num_Acc\").agg(mean_grav=(\"grav\", \"mean\")).reset_index()\n",
    "gravite = gravite.merge(carac[[\"Num_Acc\", \"dep\"]], on=\"Num_Acc\", how=\"left\")\n",
    "grav_per_dep = gravite.groupby(\"dep\").agg(mean_grav_dep=(\"mean_grav\", \"mean\")).reset_index()\n",
    "\n",
    "\n",
    "kpi_df = acc_freq_habitant.merge(acc_freq_veh[[\"dep\", \"freq_per_100_veh\"]], on=\"dep\", how=\"left\")\n",
    "kpi_df = kpi_df.merge(grav_per_dep, on=\"dep\", how=\"left\")\n",
    "\n",
    "\n",
    "kpi_df.sort_values(\"freq_per_10k_hab\", ascending=False).head(10)\n"
   ]
  },
  {
   "cell_type": "code",
   "execution_count": 31,
   "id": "90394da1-4783-4164-8b13-1233f8f20288",
   "metadata": {},
   "outputs": [
    {
     "name": "stdout",
     "output_type": "stream",
     "text": [
      "     dep  accidents  population  freq_per_10k_hab  freq_per_100_veh  \\\n",
      "100  975          2         NaN               NaN        100.000000   \n",
      "55    55        111    185753.0          5.975677         68.098160   \n",
      "104  986         10         NaN               NaN         76.923077   \n",
      "48    48         70     80049.0          8.744644         74.468085   \n",
      "65    65        218    237183.0          9.191215         67.912773   \n",
      "90    90         37    142989.0          2.587612         72.549020   \n",
      "46    46        125    181023.0          6.905200         69.060773   \n",
      "58    58        193    207295.0          9.310403         66.095890   \n",
      "3     04        193    171621.0         11.245710         67.719298   \n",
      "87    87        422    378754.0         11.141797         63.554217   \n",
      "\n",
      "     mean_grav_dep  vehicules  total_accident_cost  total_premium    ratio_SP  \n",
      "100       2.250000          2         2.250000e+04           4000  562.500000  \n",
      "55        2.874785        163         1.595506e+06         326000  489.419004  \n",
      "104       2.510000         13         1.255000e+05          26000  482.692308  \n",
      "48        2.581939         94         9.036786e+05         188000  480.680091  \n",
      "65        2.748924        321         2.996327e+06         642000  466.717661  \n",
      "90        2.490991         51         4.608333e+05         102000  451.797386  \n",
      "46        2.606229        181         1.628893e+06         362000  449.970403  \n",
      "58        2.723057        292         2.627750e+06         584000  449.957192  \n",
      "3         2.637061        285         2.544764e+06         570000  446.449805  \n",
      "87        2.809766        664         5.928607e+06        1328000  446.431261  \n"
     ]
    }
   ],
   "source": [
    "# Hypothèses\n",
    "average_cost_per_accident = 5000       # Coût moyen de base par accident (en euros)\n",
    "average_premium_per_vehicle = 2000     # Prime annuelle fictive par véhicule (en euros)\n",
    "\n",
    "# Fusionner le nombre de véhicules par département avec le tableau KPI\n",
    "kpi_df_full = kpi_df.merge(veh_per_dep, on=\"dep\", how=\"left\")\n",
    "\n",
    "# Calcul du coût total des sinistres par département :\n",
    "# On multiplie le nombre d'accidents par le coût moyen ajusté par la gravité\n",
    "kpi_df_full[\"total_accident_cost\"] = kpi_df_full[\"accidents\"] * average_cost_per_accident * kpi_df_full[\"mean_grav_dep\"]\n",
    "\n",
    "# Calcul total des primes collectées par département :\n",
    "# On multiplie le nombre de véhicules par la prime fictive\n",
    "kpi_df_full[\"total_premium\"] = kpi_df_full[\"vehicules\"] * average_premium_per_vehicle\n",
    "\n",
    "# Calcul du ratio S/P (en pourcentage)\n",
    "kpi_df_full[\"ratio_SP\"] = kpi_df_full[\"total_accident_cost\"] / kpi_df_full[\"total_premium\"] * 100\n",
    "\n",
    "# Affichage des 10 départements présentant le ratio S/P le plus élevé\n",
    "print(kpi_df_full.sort_values(\"ratio_SP\", ascending=False).head(10))\n"
   ]
  },
  {
   "cell_type": "code",
   "execution_count": 32,
   "id": "35671e73-2725-4edf-9510-5bc85de2a90f",
   "metadata": {},
   "outputs": [],
   "source": [
    "lum_dict = {\n",
    "    1: \"Plein jour\",\n",
    "    2: \"Crépuscule ou aube\",\n",
    "    3: \"Nuit sans éclairage public\",\n",
    "    4: \"Nuit avec éclairage non allumé\",\n",
    "    5: \"Nuit avec éclairage allumé\"\n",
    "}\n",
    "\n",
    "col_dict = {\n",
    "    1: \"Deux véhicules - frontale\",\n",
    "    2: \"Deux véhicules - arrière\",\n",
    "    3: \"Deux véhicules - angle\",\n",
    "    4: \"Trois véhicules et plus\",\n",
    "    5: \"Autre collision\",\n",
    "    6: \"Piéton\",\n",
    "    7: \"Obstacle fixe\",\n",
    "    8: \"Animal\",\n",
    "    9: \"Autre sans collision\",\n",
    "    10: \"Non précisé\"\n",
    "}\n",
    "\n",
    "agg_dict = {\n",
    "    1: \"Hors agglomération\",\n",
    "    2: \"En agglomération\"\n",
    "}\n",
    "\n",
    "\n",
    "grav_lum = usagers.groupby(\"Num_Acc\").agg(mean_grav=(\"grav\", \"mean\")).reset_index()\n",
    "grav_lum = grav_lum.merge(carac[[\"Num_Acc\", \"lum\"]], on=\"Num_Acc\", how=\"left\")\n",
    "grav_lum = grav_lum.groupby(\"lum\").agg(mean_grav=(\"mean_grav\", \"mean\"), nb_acc=(\"Num_Acc\", \"count\")).reset_index()\n",
    "grav_lum[\"lum_lib\"] = grav_lum[\"lum\"].map(lum_dict)\n",
    "\n",
    "grav_col = usagers.groupby(\"Num_Acc\").agg(mean_grav=(\"grav\", \"mean\")).reset_index()\n",
    "grav_col = grav_col.merge(carac[[\"Num_Acc\", \"col\"]], on=\"Num_Acc\", how=\"left\")\n",
    "grav_col = grav_col.groupby(\"col\").agg(mean_grav=(\"mean_grav\", \"mean\"), nb_acc=(\"Num_Acc\", \"count\")).reset_index()\n",
    "grav_col[\"col_lib\"] = grav_col[\"col\"].map(col_dict)\n",
    "\n",
    "veh_agg = pd.merge(vehicules, carac[[\"Num_Acc\", \"agg\"]], on=\"Num_Acc\", how=\"left\")\n",
    "agg_freq = veh_agg.groupby(\"agg\").agg(\n",
    "    accidents=(\"Num_Acc\", \"nunique\"),\n",
    "    vehicules=(\"Num_Acc\", \"count\")\n",
    ").reset_index()\n",
    "agg_freq[\"freq_per_100_veh\"] = agg_freq[\"accidents\"] / agg_freq[\"vehicules\"] * 100\n",
    "agg_freq[\"zone\"] = agg_freq[\"agg\"].map(agg_dict)\n"
   ]
  },
  {
   "cell_type": "code",
   "execution_count": 33,
   "id": "d7a2c34a-80db-492e-9fca-fe2b67cbff96",
   "metadata": {},
   "outputs": [
    {
     "data": {
      "text/html": [
       "<div>\n",
       "<style scoped>\n",
       "    .dataframe tbody tr th:only-of-type {\n",
       "        vertical-align: middle;\n",
       "    }\n",
       "\n",
       "    .dataframe tbody tr th {\n",
       "        vertical-align: top;\n",
       "    }\n",
       "\n",
       "    .dataframe thead th {\n",
       "        text-align: right;\n",
       "    }\n",
       "</style>\n",
       "<table border=\"1\" class=\"dataframe\">\n",
       "  <thead>\n",
       "    <tr style=\"text-align: right;\">\n",
       "      <th></th>\n",
       "      <th>lum_lib</th>\n",
       "      <th>mean_grav</th>\n",
       "      <th>nb_acc</th>\n",
       "    </tr>\n",
       "  </thead>\n",
       "  <tbody>\n",
       "    <tr>\n",
       "      <th>0</th>\n",
       "      <td>NaN</td>\n",
       "      <td>3.000000</td>\n",
       "      <td>2</td>\n",
       "    </tr>\n",
       "    <tr>\n",
       "      <th>3</th>\n",
       "      <td>Nuit sans éclairage public</td>\n",
       "      <td>2.756346</td>\n",
       "      <td>5913</td>\n",
       "    </tr>\n",
       "    <tr>\n",
       "      <th>4</th>\n",
       "      <td>Nuit avec éclairage non allumé</td>\n",
       "      <td>2.722728</td>\n",
       "      <td>649</td>\n",
       "    </tr>\n",
       "    <tr>\n",
       "      <th>5</th>\n",
       "      <td>Nuit avec éclairage allumé</td>\n",
       "      <td>2.669300</td>\n",
       "      <td>8498</td>\n",
       "    </tr>\n",
       "    <tr>\n",
       "      <th>2</th>\n",
       "      <td>Crépuscule ou aube</td>\n",
       "      <td>2.627293</td>\n",
       "      <td>3643</td>\n",
       "    </tr>\n",
       "    <tr>\n",
       "      <th>1</th>\n",
       "      <td>Plein jour</td>\n",
       "      <td>2.578144</td>\n",
       "      <td>36117</td>\n",
       "    </tr>\n",
       "  </tbody>\n",
       "</table>\n",
       "</div>"
      ],
      "text/plain": [
       "                          lum_lib  mean_grav  nb_acc\n",
       "0                             NaN   3.000000       2\n",
       "3      Nuit sans éclairage public   2.756346    5913\n",
       "4  Nuit avec éclairage non allumé   2.722728     649\n",
       "5      Nuit avec éclairage allumé   2.669300    8498\n",
       "2              Crépuscule ou aube   2.627293    3643\n",
       "1                      Plein jour   2.578144   36117"
      ]
     },
     "metadata": {},
     "output_type": "display_data"
    },
    {
     "data": {
      "text/html": [
       "<div>\n",
       "<style scoped>\n",
       "    .dataframe tbody tr th:only-of-type {\n",
       "        vertical-align: middle;\n",
       "    }\n",
       "\n",
       "    .dataframe tbody tr th {\n",
       "        vertical-align: top;\n",
       "    }\n",
       "\n",
       "    .dataframe thead th {\n",
       "        text-align: right;\n",
       "    }\n",
       "</style>\n",
       "<table border=\"1\" class=\"dataframe\">\n",
       "  <thead>\n",
       "    <tr style=\"text-align: right;\">\n",
       "      <th></th>\n",
       "      <th>col_lib</th>\n",
       "      <th>mean_grav</th>\n",
       "      <th>nb_acc</th>\n",
       "    </tr>\n",
       "  </thead>\n",
       "  <tbody>\n",
       "    <tr>\n",
       "      <th>7</th>\n",
       "      <td>Obstacle fixe</td>\n",
       "      <td>3.253504</td>\n",
       "      <td>5198</td>\n",
       "    </tr>\n",
       "    <tr>\n",
       "      <th>0</th>\n",
       "      <td>NaN</td>\n",
       "      <td>3.047436</td>\n",
       "      <td>13</td>\n",
       "    </tr>\n",
       "    <tr>\n",
       "      <th>6</th>\n",
       "      <td>Piéton</td>\n",
       "      <td>2.729786</td>\n",
       "      <td>16625</td>\n",
       "    </tr>\n",
       "    <tr>\n",
       "      <th>1</th>\n",
       "      <td>Deux véhicules - frontale</td>\n",
       "      <td>2.612411</td>\n",
       "      <td>5873</td>\n",
       "    </tr>\n",
       "    <tr>\n",
       "      <th>2</th>\n",
       "      <td>Deux véhicules - arrière</td>\n",
       "      <td>2.471608</td>\n",
       "      <td>7269</td>\n",
       "    </tr>\n",
       "    <tr>\n",
       "      <th>3</th>\n",
       "      <td>Deux véhicules - angle</td>\n",
       "      <td>2.444168</td>\n",
       "      <td>16376</td>\n",
       "    </tr>\n",
       "    <tr>\n",
       "      <th>5</th>\n",
       "      <td>Autre collision</td>\n",
       "      <td>2.274899</td>\n",
       "      <td>1625</td>\n",
       "    </tr>\n",
       "    <tr>\n",
       "      <th>4</th>\n",
       "      <td>Trois véhicules et plus</td>\n",
       "      <td>2.211532</td>\n",
       "      <td>1843</td>\n",
       "    </tr>\n",
       "  </tbody>\n",
       "</table>\n",
       "</div>"
      ],
      "text/plain": [
       "                     col_lib  mean_grav  nb_acc\n",
       "7              Obstacle fixe   3.253504    5198\n",
       "0                        NaN   3.047436      13\n",
       "6                     Piéton   2.729786   16625\n",
       "1  Deux véhicules - frontale   2.612411    5873\n",
       "2   Deux véhicules - arrière   2.471608    7269\n",
       "3     Deux véhicules - angle   2.444168   16376\n",
       "5            Autre collision   2.274899    1625\n",
       "4    Trois véhicules et plus   2.211532    1843"
      ]
     },
     "metadata": {},
     "output_type": "display_data"
    },
    {
     "data": {
      "text/html": [
       "<div>\n",
       "<style scoped>\n",
       "    .dataframe tbody tr th:only-of-type {\n",
       "        vertical-align: middle;\n",
       "    }\n",
       "\n",
       "    .dataframe tbody tr th {\n",
       "        vertical-align: top;\n",
       "    }\n",
       "\n",
       "    .dataframe thead th {\n",
       "        text-align: right;\n",
       "    }\n",
       "</style>\n",
       "<table border=\"1\" class=\"dataframe\">\n",
       "  <thead>\n",
       "    <tr style=\"text-align: right;\">\n",
       "      <th></th>\n",
       "      <th>zone</th>\n",
       "      <th>freq_per_100_veh</th>\n",
       "      <th>accidents</th>\n",
       "    </tr>\n",
       "  </thead>\n",
       "  <tbody>\n",
       "    <tr>\n",
       "      <th>1</th>\n",
       "      <td>En agglomération</td>\n",
       "      <td>60.174602</td>\n",
       "      <td>34326</td>\n",
       "    </tr>\n",
       "    <tr>\n",
       "      <th>0</th>\n",
       "      <td>Hors agglomération</td>\n",
       "      <td>56.090419</td>\n",
       "      <td>20496</td>\n",
       "    </tr>\n",
       "  </tbody>\n",
       "</table>\n",
       "</div>"
      ],
      "text/plain": [
       "                 zone  freq_per_100_veh  accidents\n",
       "1    En agglomération         60.174602      34326\n",
       "0  Hors agglomération         56.090419      20496"
      ]
     },
     "metadata": {},
     "output_type": "display_data"
    }
   ],
   "source": [
    "display(grav_lum[[\"lum_lib\", \"mean_grav\", \"nb_acc\"]].sort_values(\"mean_grav\", ascending=False))\n",
    "display(grav_col[[\"col_lib\", \"mean_grav\", \"nb_acc\"]].sort_values(\"mean_grav\", ascending=False))\n",
    "display(agg_freq[[\"zone\", \"freq_per_100_veh\", \"accidents\"]].sort_values(\"freq_per_100_veh\", ascending=False))\n"
   ]
  },
  {
   "cell_type": "code",
   "execution_count": 34,
   "id": "a745fa9a-6387-4251-9604-79471b6f7ef9",
   "metadata": {},
   "outputs": [],
   "source": [
    "# Définir la variable cible : nombre d'accidents par département\n",
    "accidents_par_dep = final.groupby('dep').agg(\n",
    "    nombre_accidents=('Num_Acc', 'nunique')\n",
    ").reset_index()\n"
   ]
  },
  {
   "cell_type": "code",
   "execution_count": 35,
   "id": "5ff10d91-0cfb-40dc-99fc-1a4fb87f7f08",
   "metadata": {},
   "outputs": [],
   "source": [
    "conditions = final.groupby('dep').agg(\n",
    "    lum_moy=('lum', 'mean'),\n",
    "    int_moy=('int', 'mean'),\n",
    "    atm_moy=('atm', 'mean'),\n",
    "    col_moy=('col', 'mean')\n",
    ").reset_index()\n"
   ]
  },
  {
   "cell_type": "code",
   "execution_count": 36,
   "id": "183151c7-593a-44c9-b3c8-9ba313039c13",
   "metadata": {},
   "outputs": [
    {
     "data": {
      "text/html": [
       "<div>\n",
       "<style scoped>\n",
       "    .dataframe tbody tr th:only-of-type {\n",
       "        vertical-align: middle;\n",
       "    }\n",
       "\n",
       "    .dataframe tbody tr th {\n",
       "        vertical-align: top;\n",
       "    }\n",
       "\n",
       "    .dataframe thead th {\n",
       "        text-align: right;\n",
       "    }\n",
       "</style>\n",
       "<table border=\"1\" class=\"dataframe\">\n",
       "  <thead>\n",
       "    <tr style=\"text-align: right;\">\n",
       "      <th></th>\n",
       "      <th>Num_Acc</th>\n",
       "      <th>jour</th>\n",
       "      <th>mois</th>\n",
       "      <th>an</th>\n",
       "      <th>hrmn</th>\n",
       "      <th>lum</th>\n",
       "      <th>dep</th>\n",
       "      <th>com</th>\n",
       "      <th>agg</th>\n",
       "      <th>int</th>\n",
       "      <th>...</th>\n",
       "      <th>etatp</th>\n",
       "      <th>id_vehicule_y</th>\n",
       "      <th>senc</th>\n",
       "      <th>catv</th>\n",
       "      <th>obs</th>\n",
       "      <th>obsm</th>\n",
       "      <th>choc</th>\n",
       "      <th>manv</th>\n",
       "      <th>motor</th>\n",
       "      <th>occutc</th>\n",
       "    </tr>\n",
       "  </thead>\n",
       "  <tbody>\n",
       "    <tr>\n",
       "      <th>0</th>\n",
       "      <td>202300000001</td>\n",
       "      <td>7</td>\n",
       "      <td>5</td>\n",
       "      <td>2023</td>\n",
       "      <td>06:00</td>\n",
       "      <td>1</td>\n",
       "      <td>75</td>\n",
       "      <td>75101</td>\n",
       "      <td>2</td>\n",
       "      <td>4</td>\n",
       "      <td>...</td>\n",
       "      <td>-1</td>\n",
       "      <td>155Â 680Â 557</td>\n",
       "      <td>1</td>\n",
       "      <td>30</td>\n",
       "      <td>0</td>\n",
       "      <td>0</td>\n",
       "      <td>5</td>\n",
       "      <td>1</td>\n",
       "      <td>1</td>\n",
       "      <td>NaN</td>\n",
       "    </tr>\n",
       "    <tr>\n",
       "      <th>1</th>\n",
       "      <td>202300000002</td>\n",
       "      <td>7</td>\n",
       "      <td>5</td>\n",
       "      <td>2023</td>\n",
       "      <td>05:30</td>\n",
       "      <td>5</td>\n",
       "      <td>94</td>\n",
       "      <td>94080</td>\n",
       "      <td>2</td>\n",
       "      <td>1</td>\n",
       "      <td>...</td>\n",
       "      <td>-1</td>\n",
       "      <td>155Â 680Â 556</td>\n",
       "      <td>2</td>\n",
       "      <td>7</td>\n",
       "      <td>0</td>\n",
       "      <td>1</td>\n",
       "      <td>1</td>\n",
       "      <td>1</td>\n",
       "      <td>1</td>\n",
       "      <td>NaN</td>\n",
       "    </tr>\n",
       "    <tr>\n",
       "      <th>2</th>\n",
       "      <td>202300000002</td>\n",
       "      <td>7</td>\n",
       "      <td>5</td>\n",
       "      <td>2023</td>\n",
       "      <td>05:30</td>\n",
       "      <td>5</td>\n",
       "      <td>94</td>\n",
       "      <td>94080</td>\n",
       "      <td>2</td>\n",
       "      <td>1</td>\n",
       "      <td>...</td>\n",
       "      <td>1</td>\n",
       "      <td>155Â 680Â 556</td>\n",
       "      <td>2</td>\n",
       "      <td>7</td>\n",
       "      <td>0</td>\n",
       "      <td>1</td>\n",
       "      <td>1</td>\n",
       "      <td>1</td>\n",
       "      <td>1</td>\n",
       "      <td>NaN</td>\n",
       "    </tr>\n",
       "    <tr>\n",
       "      <th>3</th>\n",
       "      <td>202300000003</td>\n",
       "      <td>7</td>\n",
       "      <td>5</td>\n",
       "      <td>2023</td>\n",
       "      <td>20:50</td>\n",
       "      <td>1</td>\n",
       "      <td>94</td>\n",
       "      <td>94022</td>\n",
       "      <td>2</td>\n",
       "      <td>3</td>\n",
       "      <td>...</td>\n",
       "      <td>-1</td>\n",
       "      <td>155Â 680Â 554</td>\n",
       "      <td>1</td>\n",
       "      <td>2</td>\n",
       "      <td>0</td>\n",
       "      <td>2</td>\n",
       "      <td>1</td>\n",
       "      <td>16</td>\n",
       "      <td>1</td>\n",
       "      <td>NaN</td>\n",
       "    </tr>\n",
       "    <tr>\n",
       "      <th>4</th>\n",
       "      <td>202300000003</td>\n",
       "      <td>7</td>\n",
       "      <td>5</td>\n",
       "      <td>2023</td>\n",
       "      <td>20:50</td>\n",
       "      <td>1</td>\n",
       "      <td>94</td>\n",
       "      <td>94022</td>\n",
       "      <td>2</td>\n",
       "      <td>3</td>\n",
       "      <td>...</td>\n",
       "      <td>-1</td>\n",
       "      <td>155Â 680Â 555</td>\n",
       "      <td>2</td>\n",
       "      <td>7</td>\n",
       "      <td>0</td>\n",
       "      <td>2</td>\n",
       "      <td>2</td>\n",
       "      <td>15</td>\n",
       "      <td>1</td>\n",
       "      <td>NaN</td>\n",
       "    </tr>\n",
       "    <tr>\n",
       "      <th>...</th>\n",
       "      <td>...</td>\n",
       "      <td>...</td>\n",
       "      <td>...</td>\n",
       "      <td>...</td>\n",
       "      <td>...</td>\n",
       "      <td>...</td>\n",
       "      <td>...</td>\n",
       "      <td>...</td>\n",
       "      <td>...</td>\n",
       "      <td>...</td>\n",
       "      <td>...</td>\n",
       "      <td>...</td>\n",
       "      <td>...</td>\n",
       "      <td>...</td>\n",
       "      <td>...</td>\n",
       "      <td>...</td>\n",
       "      <td>...</td>\n",
       "      <td>...</td>\n",
       "      <td>...</td>\n",
       "      <td>...</td>\n",
       "      <td>...</td>\n",
       "    </tr>\n",
       "    <tr>\n",
       "      <th>125784</th>\n",
       "      <td>202300054821</td>\n",
       "      <td>26</td>\n",
       "      <td>10</td>\n",
       "      <td>2023</td>\n",
       "      <td>17:20</td>\n",
       "      <td>1</td>\n",
       "      <td>973</td>\n",
       "      <td>97302</td>\n",
       "      <td>1</td>\n",
       "      <td>6</td>\n",
       "      <td>...</td>\n",
       "      <td>-1</td>\n",
       "      <td>155Â 583Â 346</td>\n",
       "      <td>1</td>\n",
       "      <td>30</td>\n",
       "      <td>0</td>\n",
       "      <td>2</td>\n",
       "      <td>3</td>\n",
       "      <td>9</td>\n",
       "      <td>1</td>\n",
       "      <td>NaN</td>\n",
       "    </tr>\n",
       "    <tr>\n",
       "      <th>125785</th>\n",
       "      <td>202300054821</td>\n",
       "      <td>26</td>\n",
       "      <td>10</td>\n",
       "      <td>2023</td>\n",
       "      <td>17:20</td>\n",
       "      <td>1</td>\n",
       "      <td>973</td>\n",
       "      <td>97302</td>\n",
       "      <td>1</td>\n",
       "      <td>6</td>\n",
       "      <td>...</td>\n",
       "      <td>-1</td>\n",
       "      <td>155Â 583Â 347</td>\n",
       "      <td>1</td>\n",
       "      <td>7</td>\n",
       "      <td>0</td>\n",
       "      <td>2</td>\n",
       "      <td>2</td>\n",
       "      <td>9</td>\n",
       "      <td>1</td>\n",
       "      <td>NaN</td>\n",
       "    </tr>\n",
       "    <tr>\n",
       "      <th>125786</th>\n",
       "      <td>202300054822</td>\n",
       "      <td>20</td>\n",
       "      <td>10</td>\n",
       "      <td>2023</td>\n",
       "      <td>16:30</td>\n",
       "      <td>1</td>\n",
       "      <td>69</td>\n",
       "      <td>69387</td>\n",
       "      <td>2</td>\n",
       "      <td>1</td>\n",
       "      <td>...</td>\n",
       "      <td>-1</td>\n",
       "      <td>155Â 583Â 344</td>\n",
       "      <td>2</td>\n",
       "      <td>7</td>\n",
       "      <td>0</td>\n",
       "      <td>2</td>\n",
       "      <td>7</td>\n",
       "      <td>22</td>\n",
       "      <td>1</td>\n",
       "      <td>NaN</td>\n",
       "    </tr>\n",
       "    <tr>\n",
       "      <th>125787</th>\n",
       "      <td>202300054822</td>\n",
       "      <td>20</td>\n",
       "      <td>10</td>\n",
       "      <td>2023</td>\n",
       "      <td>16:30</td>\n",
       "      <td>1</td>\n",
       "      <td>69</td>\n",
       "      <td>69387</td>\n",
       "      <td>2</td>\n",
       "      <td>1</td>\n",
       "      <td>...</td>\n",
       "      <td>-1</td>\n",
       "      <td>155Â 583Â 344</td>\n",
       "      <td>2</td>\n",
       "      <td>7</td>\n",
       "      <td>0</td>\n",
       "      <td>2</td>\n",
       "      <td>7</td>\n",
       "      <td>22</td>\n",
       "      <td>1</td>\n",
       "      <td>NaN</td>\n",
       "    </tr>\n",
       "    <tr>\n",
       "      <th>125788</th>\n",
       "      <td>202300054822</td>\n",
       "      <td>20</td>\n",
       "      <td>10</td>\n",
       "      <td>2023</td>\n",
       "      <td>16:30</td>\n",
       "      <td>1</td>\n",
       "      <td>69</td>\n",
       "      <td>69387</td>\n",
       "      <td>2</td>\n",
       "      <td>1</td>\n",
       "      <td>...</td>\n",
       "      <td>-1</td>\n",
       "      <td>155Â 583Â 345</td>\n",
       "      <td>2</td>\n",
       "      <td>50</td>\n",
       "      <td>14</td>\n",
       "      <td>2</td>\n",
       "      <td>1</td>\n",
       "      <td>1</td>\n",
       "      <td>3</td>\n",
       "      <td>NaN</td>\n",
       "    </tr>\n",
       "  </tbody>\n",
       "</table>\n",
       "<p>125789 rows × 42 columns</p>\n",
       "</div>"
      ],
      "text/plain": [
       "             Num_Acc  jour  mois    an   hrmn  lum  dep    com  agg  int  ...  \\\n",
       "0       202300000001     7     5  2023  06:00    1   75  75101    2    4  ...   \n",
       "1       202300000002     7     5  2023  05:30    5   94  94080    2    1  ...   \n",
       "2       202300000002     7     5  2023  05:30    5   94  94080    2    1  ...   \n",
       "3       202300000003     7     5  2023  20:50    1   94  94022    2    3  ...   \n",
       "4       202300000003     7     5  2023  20:50    1   94  94022    2    3  ...   \n",
       "...              ...   ...   ...   ...    ...  ...  ...    ...  ...  ...  ...   \n",
       "125784  202300054821    26    10  2023  17:20    1  973  97302    1    6  ...   \n",
       "125785  202300054821    26    10  2023  17:20    1  973  97302    1    6  ...   \n",
       "125786  202300054822    20    10  2023  16:30    1   69  69387    2    1  ...   \n",
       "125787  202300054822    20    10  2023  16:30    1   69  69387    2    1  ...   \n",
       "125788  202300054822    20    10  2023  16:30    1   69  69387    2    1  ...   \n",
       "\n",
       "        etatp  id_vehicule_y senc catv obs obsm choc manv motor occutc  \n",
       "0          -1  155Â 680Â 557    1   30   0    0    5    1     1    NaN  \n",
       "1          -1  155Â 680Â 556    2    7   0    1    1    1     1    NaN  \n",
       "2           1  155Â 680Â 556    2    7   0    1    1    1     1    NaN  \n",
       "3          -1  155Â 680Â 554    1    2   0    2    1   16     1    NaN  \n",
       "4          -1  155Â 680Â 555    2    7   0    2    2   15     1    NaN  \n",
       "...       ...            ...  ...  ...  ..  ...  ...  ...   ...    ...  \n",
       "125784     -1  155Â 583Â 346    1   30   0    2    3    9     1    NaN  \n",
       "125785     -1  155Â 583Â 347    1    7   0    2    2    9     1    NaN  \n",
       "125786     -1  155Â 583Â 344    2    7   0    2    7   22     1    NaN  \n",
       "125787     -1  155Â 583Â 344    2    7   0    2    7   22     1    NaN  \n",
       "125788     -1  155Â 583Â 345    2   50  14    2    1    1     3    NaN  \n",
       "\n",
       "[125789 rows x 42 columns]"
      ]
     },
     "execution_count": 36,
     "metadata": {},
     "output_type": "execute_result"
    }
   ],
   "source": [
    "final\n"
   ]
  },
  {
   "cell_type": "code",
   "execution_count": 37,
   "id": "2f6ed072-4a5c-459e-aa90-2a6a860c3272",
   "metadata": {},
   "outputs": [],
   "source": [
    "df_modele = final.groupby('dep').agg(\n",
    "    nombre_accidents=('Num_Acc', 'nunique'),\n",
    "    lum_moy=('lum', 'mean'),\n",
    "    int_moy=('int', 'mean'),\n",
    "    atm_moy=('atm', 'mean'),  # si présent\n",
    "    col_moy=('col', 'mean'),  # si présent\n",
    "    nombre_usagers=('id_usager', 'count'),  # si présent\n",
    "    age_moyen_usager=('an_nais', lambda x: 2023 - x.dropna().astype(float).mean()),  # si présent\n",
    "    catv_moyen=('catv', 'mean')  # si présent\n",
    ").reset_index()\n"
   ]
  },
  {
   "cell_type": "code",
   "execution_count": 38,
   "id": "317fea53-27d5-4e61-952a-74428ed2cb79",
   "metadata": {},
   "outputs": [
    {
     "data": {
      "text/html": [
       "<div>\n",
       "<style scoped>\n",
       "    .dataframe tbody tr th:only-of-type {\n",
       "        vertical-align: middle;\n",
       "    }\n",
       "\n",
       "    .dataframe tbody tr th {\n",
       "        vertical-align: top;\n",
       "    }\n",
       "\n",
       "    .dataframe thead th {\n",
       "        text-align: right;\n",
       "    }\n",
       "</style>\n",
       "<table border=\"1\" class=\"dataframe\">\n",
       "  <thead>\n",
       "    <tr style=\"text-align: right;\">\n",
       "      <th></th>\n",
       "      <th>dep</th>\n",
       "      <th>nombre_accidents</th>\n",
       "      <th>lum_moy</th>\n",
       "      <th>int_moy</th>\n",
       "      <th>atm_moy</th>\n",
       "      <th>col_moy</th>\n",
       "      <th>nombre_usagers</th>\n",
       "      <th>age_moyen_usager</th>\n",
       "      <th>catv_moyen</th>\n",
       "    </tr>\n",
       "  </thead>\n",
       "  <tbody>\n",
       "    <tr>\n",
       "      <th>0</th>\n",
       "      <td>01</td>\n",
       "      <td>382</td>\n",
       "      <td>1.802442</td>\n",
       "      <td>2.068812</td>\n",
       "      <td>1.936737</td>\n",
       "      <td>3.657048</td>\n",
       "      <td>901</td>\n",
       "      <td>39.160494</td>\n",
       "      <td>10.487236</td>\n",
       "    </tr>\n",
       "    <tr>\n",
       "      <th>1</th>\n",
       "      <td>02</td>\n",
       "      <td>253</td>\n",
       "      <td>1.714032</td>\n",
       "      <td>2.115453</td>\n",
       "      <td>1.730018</td>\n",
       "      <td>3.809947</td>\n",
       "      <td>563</td>\n",
       "      <td>37.908766</td>\n",
       "      <td>11.271758</td>\n",
       "    </tr>\n",
       "    <tr>\n",
       "      <th>2</th>\n",
       "      <td>03</td>\n",
       "      <td>235</td>\n",
       "      <td>1.667946</td>\n",
       "      <td>1.923225</td>\n",
       "      <td>1.777351</td>\n",
       "      <td>3.865643</td>\n",
       "      <td>521</td>\n",
       "      <td>42.260618</td>\n",
       "      <td>11.894434</td>\n",
       "    </tr>\n",
       "    <tr>\n",
       "      <th>3</th>\n",
       "      <td>04</td>\n",
       "      <td>193</td>\n",
       "      <td>1.480720</td>\n",
       "      <td>1.956298</td>\n",
       "      <td>1.632391</td>\n",
       "      <td>4.341902</td>\n",
       "      <td>389</td>\n",
       "      <td>44.299479</td>\n",
       "      <td>12.722365</td>\n",
       "    </tr>\n",
       "    <tr>\n",
       "      <th>4</th>\n",
       "      <td>05</td>\n",
       "      <td>201</td>\n",
       "      <td>1.604255</td>\n",
       "      <td>1.774468</td>\n",
       "      <td>1.478723</td>\n",
       "      <td>3.853191</td>\n",
       "      <td>470</td>\n",
       "      <td>42.195699</td>\n",
       "      <td>11.751064</td>\n",
       "    </tr>\n",
       "    <tr>\n",
       "      <th>...</th>\n",
       "      <td>...</td>\n",
       "      <td>...</td>\n",
       "      <td>...</td>\n",
       "      <td>...</td>\n",
       "      <td>...</td>\n",
       "      <td>...</td>\n",
       "      <td>...</td>\n",
       "      <td>...</td>\n",
       "      <td>...</td>\n",
       "    </tr>\n",
       "    <tr>\n",
       "      <th>102</th>\n",
       "      <td>977</td>\n",
       "      <td>7</td>\n",
       "      <td>2.636364</td>\n",
       "      <td>2.545455</td>\n",
       "      <td>1.090909</td>\n",
       "      <td>4.000000</td>\n",
       "      <td>11</td>\n",
       "      <td>31.600000</td>\n",
       "      <td>21.000000</td>\n",
       "    </tr>\n",
       "    <tr>\n",
       "      <th>103</th>\n",
       "      <td>978</td>\n",
       "      <td>30</td>\n",
       "      <td>2.560606</td>\n",
       "      <td>1.333333</td>\n",
       "      <td>1.484848</td>\n",
       "      <td>3.803030</td>\n",
       "      <td>66</td>\n",
       "      <td>34.369231</td>\n",
       "      <td>18.803030</td>\n",
       "    </tr>\n",
       "    <tr>\n",
       "      <th>104</th>\n",
       "      <td>986</td>\n",
       "      <td>10</td>\n",
       "      <td>1.250000</td>\n",
       "      <td>3.400000</td>\n",
       "      <td>1.400000</td>\n",
       "      <td>3.700000</td>\n",
       "      <td>20</td>\n",
       "      <td>37.300000</td>\n",
       "      <td>21.700000</td>\n",
       "    </tr>\n",
       "    <tr>\n",
       "      <th>105</th>\n",
       "      <td>987</td>\n",
       "      <td>170</td>\n",
       "      <td>2.268542</td>\n",
       "      <td>1.644501</td>\n",
       "      <td>1.294118</td>\n",
       "      <td>3.613811</td>\n",
       "      <td>391</td>\n",
       "      <td>36.688144</td>\n",
       "      <td>13.375959</td>\n",
       "    </tr>\n",
       "    <tr>\n",
       "      <th>106</th>\n",
       "      <td>988</td>\n",
       "      <td>222</td>\n",
       "      <td>1.961844</td>\n",
       "      <td>1.912560</td>\n",
       "      <td>1.321145</td>\n",
       "      <td>4.325914</td>\n",
       "      <td>629</td>\n",
       "      <td>35.955128</td>\n",
       "      <td>11.670906</td>\n",
       "    </tr>\n",
       "  </tbody>\n",
       "</table>\n",
       "<p>107 rows × 9 columns</p>\n",
       "</div>"
      ],
      "text/plain": [
       "     dep  nombre_accidents   lum_moy   int_moy   atm_moy   col_moy  \\\n",
       "0     01               382  1.802442  2.068812  1.936737  3.657048   \n",
       "1     02               253  1.714032  2.115453  1.730018  3.809947   \n",
       "2     03               235  1.667946  1.923225  1.777351  3.865643   \n",
       "3     04               193  1.480720  1.956298  1.632391  4.341902   \n",
       "4     05               201  1.604255  1.774468  1.478723  3.853191   \n",
       "..   ...               ...       ...       ...       ...       ...   \n",
       "102  977                 7  2.636364  2.545455  1.090909  4.000000   \n",
       "103  978                30  2.560606  1.333333  1.484848  3.803030   \n",
       "104  986                10  1.250000  3.400000  1.400000  3.700000   \n",
       "105  987               170  2.268542  1.644501  1.294118  3.613811   \n",
       "106  988               222  1.961844  1.912560  1.321145  4.325914   \n",
       "\n",
       "     nombre_usagers  age_moyen_usager  catv_moyen  \n",
       "0               901         39.160494   10.487236  \n",
       "1               563         37.908766   11.271758  \n",
       "2               521         42.260618   11.894434  \n",
       "3               389         44.299479   12.722365  \n",
       "4               470         42.195699   11.751064  \n",
       "..              ...               ...         ...  \n",
       "102              11         31.600000   21.000000  \n",
       "103              66         34.369231   18.803030  \n",
       "104              20         37.300000   21.700000  \n",
       "105             391         36.688144   13.375959  \n",
       "106             629         35.955128   11.670906  \n",
       "\n",
       "[107 rows x 9 columns]"
      ]
     },
     "execution_count": 38,
     "metadata": {},
     "output_type": "execute_result"
    }
   ],
   "source": [
    "df_modele"
   ]
  },
  {
   "cell_type": "code",
   "execution_count": 39,
   "id": "ccfcbde0-c059-49e5-8e6b-caaa45b007f9",
   "metadata": {},
   "outputs": [
    {
     "data": {
      "image/png": "[encoded data removed]",
      "text/plain": [
       "<Figure size 640x480 with 1 Axes>"
      ]
     },
     "metadata": {},
     "output_type": "display_data"
    },
    {
     "name": "stdout",
     "output_type": "stream",
     "text": [
      "Moyenne : 512.36, Variance : 405634.51\n"
     ]
    }
   ],
   "source": [
    "import numpy as np\n",
    "offset = np.log(df_modele['nombre_usagers']) \n",
    "\n",
    "import matplotlib.pyplot as plt\n",
    "import seaborn as sns\n",
    "\n",
    "sns.histplot(df_modele['nombre_accidents'], bins=30, kde=False)\n",
    "plt.title(\"Distribution du nombre d'accidents par département\")\n",
    "plt.xlabel(\"Nombre d'accidents\")\n",
    "plt.ylabel(\"Fréquence\")\n",
    "plt.show()\n",
    "\n",
    "# Vérifier sur-dispersion\n",
    "mean = df_modele['nombre_accidents'].mean()\n",
    "var = df_modele['nombre_accidents'].var()\n",
    "print(f\"Moyenne : {mean:.2f}, Variance : {var:.2f}\")\n",
    "\n",
    "\n"
   ]
  },
  {
   "cell_type": "code",
   "execution_count": 45,
   "id": "5d0bb9d8-2e13-4269-97c7-40726d74918d",
   "metadata": {},
   "outputs": [
    {
     "ename": "KeyError",
     "evalue": "\"None of [Index(['densite_vehicules', 'conditions_meteo_moy', 'prop_routes_nationales',\\n       'prop_jeunes_conducteurs'],\\n      dtype='object')] are in the [columns]\"",
     "output_type": "error",
     "traceback": [
      "\u001b[0;31m---------------------------------------------------------------------------\u001b[0m",
      "\u001b[0;31mKeyError\u001b[0m                                  Traceback (most recent call last)",
      "Cell \u001b[0;32mIn[45], line 2\u001b[0m\n\u001b[1;32m      1\u001b[0m features \u001b[38;5;241m=\u001b[39m [\u001b[38;5;124m'\u001b[39m\u001b[38;5;124mdensite_vehicules\u001b[39m\u001b[38;5;124m'\u001b[39m, \u001b[38;5;124m'\u001b[39m\u001b[38;5;124mconditions_meteo_moy\u001b[39m\u001b[38;5;124m'\u001b[39m, \u001b[38;5;124m'\u001b[39m\u001b[38;5;124mprop_routes_nationales\u001b[39m\u001b[38;5;124m'\u001b[39m, \u001b[38;5;124m'\u001b[39m\u001b[38;5;124mprop_jeunes_conducteurs\u001b[39m\u001b[38;5;124m'\u001b[39m]\n\u001b[0;32m----> 2\u001b[0m X \u001b[38;5;241m=\u001b[39m \u001b[43mdf_modele\u001b[49m\u001b[43m[\u001b[49m\u001b[43mfeatures\u001b[49m\u001b[43m]\u001b[49m\n\u001b[1;32m      3\u001b[0m X \u001b[38;5;241m=\u001b[39m sm\u001b[38;5;241m.\u001b[39madd_constant(X)\n\u001b[1;32m      5\u001b[0m glm_nb \u001b[38;5;241m=\u001b[39m sm\u001b[38;5;241m.\u001b[39mGLM(df_modele[\u001b[38;5;124m'\u001b[39m\u001b[38;5;124mnombre_accidents\u001b[39m\u001b[38;5;124m'\u001b[39m],\n\u001b[1;32m      6\u001b[0m                 X,\n\u001b[1;32m      7\u001b[0m                 family\u001b[38;5;241m=\u001b[39msm\u001b[38;5;241m.\u001b[39mfamilies\u001b[38;5;241m.\u001b[39mNegativeBinomial(),\n\u001b[1;32m      8\u001b[0m                 offset\u001b[38;5;241m=\u001b[39mnp\u001b[38;5;241m.\u001b[39mlog(df_modele[\u001b[38;5;124m'\u001b[39m\u001b[38;5;124mpopulation\u001b[39m\u001b[38;5;124m'\u001b[39m]))  \n",
      "File \u001b[0;32m~/opt/anaconda3/lib/python3.8/site-packages/pandas/core/frame.py:3030\u001b[0m, in \u001b[0;36mDataFrame.__getitem__\u001b[0;34m(self, key)\u001b[0m\n\u001b[1;32m   3028\u001b[0m     \u001b[38;5;28;01mif\u001b[39;00m is_iterator(key):\n\u001b[1;32m   3029\u001b[0m         key \u001b[38;5;241m=\u001b[39m \u001b[38;5;28mlist\u001b[39m(key)\n\u001b[0;32m-> 3030\u001b[0m     indexer \u001b[38;5;241m=\u001b[39m \u001b[38;5;28;43mself\u001b[39;49m\u001b[38;5;241;43m.\u001b[39;49m\u001b[43mloc\u001b[49m\u001b[38;5;241;43m.\u001b[39;49m\u001b[43m_get_listlike_indexer\u001b[49m\u001b[43m(\u001b[49m\u001b[43mkey\u001b[49m\u001b[43m,\u001b[49m\u001b[43m \u001b[49m\u001b[43maxis\u001b[49m\u001b[38;5;241;43m=\u001b[39;49m\u001b[38;5;241;43m1\u001b[39;49m\u001b[43m,\u001b[49m\u001b[43m \u001b[49m\u001b[43mraise_missing\u001b[49m\u001b[38;5;241;43m=\u001b[39;49m\u001b[38;5;28;43;01mTrue\u001b[39;49;00m\u001b[43m)\u001b[49m[\u001b[38;5;241m1\u001b[39m]\n\u001b[1;32m   3032\u001b[0m \u001b[38;5;66;03m# take() does not accept boolean indexers\u001b[39;00m\n\u001b[1;32m   3033\u001b[0m \u001b[38;5;28;01mif\u001b[39;00m \u001b[38;5;28mgetattr\u001b[39m(indexer, \u001b[38;5;124m\"\u001b[39m\u001b[38;5;124mdtype\u001b[39m\u001b[38;5;124m\"\u001b[39m, \u001b[38;5;28;01mNone\u001b[39;00m) \u001b[38;5;241m==\u001b[39m \u001b[38;5;28mbool\u001b[39m:\n",
      "File \u001b[0;32m~/opt/anaconda3/lib/python3.8/site-packages/pandas/core/indexing.py:1266\u001b[0m, in \u001b[0;36m_LocIndexer._get_listlike_indexer\u001b[0;34m(self, key, axis, raise_missing)\u001b[0m\n\u001b[1;32m   1263\u001b[0m \u001b[38;5;28;01melse\u001b[39;00m:\n\u001b[1;32m   1264\u001b[0m     keyarr, indexer, new_indexer \u001b[38;5;241m=\u001b[39m ax\u001b[38;5;241m.\u001b[39m_reindex_non_unique(keyarr)\n\u001b[0;32m-> 1266\u001b[0m \u001b[38;5;28;43mself\u001b[39;49m\u001b[38;5;241;43m.\u001b[39;49m\u001b[43m_validate_read_indexer\u001b[49m\u001b[43m(\u001b[49m\u001b[43mkeyarr\u001b[49m\u001b[43m,\u001b[49m\u001b[43m \u001b[49m\u001b[43mindexer\u001b[49m\u001b[43m,\u001b[49m\u001b[43m \u001b[49m\u001b[43maxis\u001b[49m\u001b[43m,\u001b[49m\u001b[43m \u001b[49m\u001b[43mraise_missing\u001b[49m\u001b[38;5;241;43m=\u001b[39;49m\u001b[43mraise_missing\u001b[49m\u001b[43m)\u001b[49m\n\u001b[1;32m   1267\u001b[0m \u001b[38;5;28;01mreturn\u001b[39;00m keyarr, indexer\n",
      "File \u001b[0;32m~/opt/anaconda3/lib/python3.8/site-packages/pandas/core/indexing.py:1308\u001b[0m, in \u001b[0;36m_LocIndexer._validate_read_indexer\u001b[0;34m(self, key, indexer, axis, raise_missing)\u001b[0m\n\u001b[1;32m   1306\u001b[0m \u001b[38;5;28;01mif\u001b[39;00m missing \u001b[38;5;241m==\u001b[39m \u001b[38;5;28mlen\u001b[39m(indexer):\n\u001b[1;32m   1307\u001b[0m     axis_name \u001b[38;5;241m=\u001b[39m \u001b[38;5;28mself\u001b[39m\u001b[38;5;241m.\u001b[39mobj\u001b[38;5;241m.\u001b[39m_get_axis_name(axis)\n\u001b[0;32m-> 1308\u001b[0m     \u001b[38;5;28;01mraise\u001b[39;00m \u001b[38;5;167;01mKeyError\u001b[39;00m(\u001b[38;5;124mf\u001b[39m\u001b[38;5;124m\"\u001b[39m\u001b[38;5;124mNone of [\u001b[39m\u001b[38;5;132;01m{\u001b[39;00mkey\u001b[38;5;132;01m}\u001b[39;00m\u001b[38;5;124m] are in the [\u001b[39m\u001b[38;5;132;01m{\u001b[39;00maxis_name\u001b[38;5;132;01m}\u001b[39;00m\u001b[38;5;124m]\u001b[39m\u001b[38;5;124m\"\u001b[39m)\n\u001b[1;32m   1310\u001b[0m ax \u001b[38;5;241m=\u001b[39m \u001b[38;5;28mself\u001b[39m\u001b[38;5;241m.\u001b[39mobj\u001b[38;5;241m.\u001b[39m_get_axis(axis)\n\u001b[1;32m   1312\u001b[0m \u001b[38;5;66;03m# We (temporarily) allow for some missing keys with .loc, except in\u001b[39;00m\n\u001b[1;32m   1313\u001b[0m \u001b[38;5;66;03m# some cases (e.g. setting) in which \"raise_missing\" will be False\u001b[39;00m\n",
      "\u001b[0;31mKeyError\u001b[0m: \"None of [Index(['densite_vehicules', 'conditions_meteo_moy', 'prop_routes_nationales',\\n       'prop_jeunes_conducteurs'],\\n      dtype='object')] are in the [columns]\""
     ]
    }
   ],
   "source": [
    "features = ['densite_vehicules', 'conditions_meteo_moy', 'prop_routes_nationales', 'prop_jeunes_conducteurs']\n",
    "X = df_modele[features]\n",
    "X = sm.add_constant(X)\n",
    "\n",
    "glm_nb = sm.GLM(df_modele['nombre_accidents'],\n",
    "                X,\n",
    "                family=sm.families.NegativeBinomial(),\n",
    "                offset=np.log(df_modele['population']))  \n",
    "result_nb = glm_nb.fit()\n",
    "\n",
    "print(result_nb.summary())"
   ]
  },
  {
   "cell_type": "code",
   "execution_count": 42,
   "id": "10c59ad5-5477-4bdc-b58d-0c49aa9fba1c",
   "metadata": {},
   "outputs": [
    {
     "name": "stdout",
     "output_type": "stream",
     "text": [
      "Index(['dep', 'nombre_accidents', 'lum_moy', 'int_moy', 'atm_moy', 'col_moy',\n",
      "       'nombre_usagers', 'age_moyen_usager', 'catv_moyen'],\n",
      "      dtype='object')\n"
     ]
    }
   ],
   "source": [
    "print(df_modele.columns)\n"
   ]
  },
  {
   "cell_type": "code",
   "execution_count": null,
   "id": "2671a152-a467-4fcf-b576-ebc108013fcc",
   "metadata": {},
   "outputs": [],
   "source": [
    "print(df_modele.columns)\n"
   ]
  },
  {
   "cell_type": "code",
   "execution_count": 46,
   "id": "a1108541-6e47-4a5d-b67a-4a4704b9312a",
   "metadata": {},
   "outputs": [
    {
     "name": "stdout",
     "output_type": "stream",
     "text": [
      "                 Generalized Linear Model Regression Results                  \n",
      "==============================================================================\n",
      "Dep. Variable:       nombre_accidents   No. Observations:                  107\n",
      "Model:                            GLM   Df Residuals:                      100\n",
      "Model Family:        NegativeBinomial   Df Model:                            6\n",
      "Link Function:                    log   Scale:                          1.0000\n",
      "Method:                          IRLS   Log-Likelihood:                -721.59\n",
      "Date:                Fri, 04 Jul 2025   Deviance:                      0.44561\n",
      "Time:                        15:37:46   Pearson chi2:                    0.468\n",
      "No. Iterations:                     7                                         \n",
      "Covariance Type:            nonrobust                                         \n",
      "====================================================================================\n",
      "                       coef    std err          z      P>|z|      [0.025      0.975]\n",
      "------------------------------------------------------------------------------------\n",
      "const               -1.8438      3.407     -0.541      0.588      -8.521       4.834\n",
      "lum_moy              0.0050      0.587      0.009      0.993      -1.146       1.156\n",
      "int_moy              0.0057      0.315      0.018      0.986      -0.612       0.623\n",
      "atm_moy              0.0630      0.406      0.155      0.877      -0.732       0.858\n",
      "col_moy              0.0369      0.312      0.118      0.906      -0.574       0.647\n",
      "age_moyen_usager     0.0139      0.055      0.251      0.802      -0.094       0.122\n",
      "catv_moyen           0.0175      0.058      0.301      0.763      -0.097       0.132\n",
      "====================================================================================\n"
     ]
    }
   ],
   "source": [
    "import statsmodels.api as sm\n",
    "import numpy as np\n",
    "\n",
    "# Définir les variables explicatives\n",
    "features = ['lum_moy', 'int_moy', 'atm_moy', 'col_moy', 'age_moyen_usager', 'catv_moyen']\n",
    "\n",
    "# Préparer la matrice X\n",
    "X = df_modele[features]\n",
    "X = sm.add_constant(X)\n",
    "\n",
    "# GLM Binomial négatif avec offset = log(nombre_usagers)\n",
    "glm_nb = sm.GLM(df_modele['nombre_accidents'],\n",
    "                X,\n",
    "                family=sm.families.NegativeBinomial(),\n",
    "                offset=np.log(df_modele['nombre_usagers']))\n",
    "\n",
    "result_nb = glm_nb.fit()\n",
    "\n",
    "# Afficher les résultats\n",
    "print(result_nb.summary())\n"
   ]
  },
  {
   "cell_type": "code",
   "execution_count": 47,
   "id": "8a1c6682-dd00-4be7-9923-3c6eee2c1ffe",
   "metadata": {},
   "outputs": [
    {
     "name": "stdout",
     "output_type": "stream",
     "text": [
      "Pseudo-R² de McFadden : -0.4651\n"
     ]
    }
   ],
   "source": [
    "# Log-vraisemblance du modèle\n",
    "ll_model = result_nb.llf\n",
    "\n",
    "# Modèle nul (seulement constante + offset)\n",
    "X_null = sm.add_constant(np.ones(len(df_modele)))\n",
    "glm_null = sm.GLM(df_modele['nombre_accidents'], X_null,\n",
    "                  family=sm.families.Poisson(),\n",
    "                  offset=np.log(df_modele['nombre_usagers']))\n",
    "result_null = glm_null.fit()\n",
    "\n",
    "ll_null = result_null.llf\n",
    "\n",
    "# Pseudo-R² de McFadden\n",
    "pseudo_r2 = 1 - (ll_model / ll_null)\n",
    "print(f\"Pseudo-R² de McFadden : {pseudo_r2:.4f}\")\n",
    "\n"
   ]
  },
  {
   "cell_type": "code",
   "execution_count": 48,
   "id": "da0c008b-c5d3-4602-81dc-4cb227c4ee41",
   "metadata": {},
   "outputs": [
    {
     "name": "stdout",
     "output_type": "stream",
     "text": [
      "AIC : 1457.18\n",
      "BIC : -466.84\n"
     ]
    },
    {
     "name": "stderr",
     "output_type": "stream",
     "text": [
      "/Users/rayannemri/opt/anaconda3/lib/python3.8/site-packages/statsmodels/genmod/generalized_linear_model.py:1721: FutureWarning: The bic value is computed using the deviance formula. After 0.13 this will change to the log-likelihood based formula. This change has no impact on the relative rank of models compared using BIC. You can directly access the log-likelihood version using the `bic_llf` attribute. You can suppress this message by calling statsmodels.genmod.generalized_linear_model.SET_USE_BIC_LLF with True to get the LLF-based version now or False to retainthe deviance version.\n",
      "  warnings.warn(\n"
     ]
    }
   ],
   "source": [
    "\n",
    "print(f\"AIC : {result_nb.aic:.2f}\")\n",
    "print(f\"BIC : {result_nb.bic:.2f}\")\n"
   ]
  },
  {
   "cell_type": "code",
   "execution_count": 49,
   "id": "e038be07-b7b3-4653-8226-19f33fff13ba",
   "metadata": {},
   "outputs": [
    {
     "name": "stdout",
     "output_type": "stream",
     "text": [
      "  dep  nombre_accidents  accidents_predits\n",
      "0  01               382         389.182383\n",
      "1  02               253         240.481910\n",
      "2  03               235         239.856909\n",
      "3  04               193         188.350517\n",
      "4  05               201         211.274751\n",
      "5  06               835         864.010627\n",
      "6  07               276         270.783706\n",
      "7  08               106         103.860354\n",
      "8  09               127         130.425430\n",
      "9  10               383         390.102384\n"
     ]
    }
   ],
   "source": [
    "# Prédictions\n",
    "df_modele['accidents_predits'] = result_nb.predict()\n",
    "\n",
    "# Comparaison simple pour quelques départements\n",
    "print(df_modele[['dep', 'nombre_accidents', 'accidents_predits']].head(10))\n"
   ]
  },
  {
   "cell_type": "code",
   "execution_count": 63,
   "id": "59ea0c7a-9bd6-4db2-8055-23c7a3b64fd7",
   "metadata": {},
   "outputs": [
    {
     "data": {
      "image/png": "[encoded data removed]",
      "text/plain": [
       "<Figure size 1600x600 with 1 Axes>"
      ]
     },
     "metadata": {},
     "output_type": "display_data"
    }
   ],
   "source": [
    "import matplotlib.pyplot as plt\n",
    "\n",
    "plt.figure(figsize=(16,6))  # élargir la figure\n",
    "\n",
    "# Tracer réel vs prédit\n",
    "plt.plot(df_modele['dep'], df_modele['nombre_accidents'], label=\"Réel\", marker='o')\n",
    "plt.plot(df_modele['dep'], df_modele['accidents_predits'], label=\"Prédit\", marker='x')\n",
    "\n",
    "# Améliorer l'axe des abscisses\n",
    "plt.xticks(rotation=90, fontsize=8)  # tourner et réduire la taille du texte\n",
    "plt.xlabel(\"Département\")\n",
    "plt.ylabel(\"Nombre d'accidents\")\n",
    "plt.title(\"Comparaison des accidents réels et prédits\")\n",
    "plt.grid(True, which='both', axis='x', linestyle=':', linewidth=0.5, alpha=0.5)  # grille plus douce\n",
    "\n",
    "plt.legend()\n",
    "plt.tight_layout()  # évite les chevauchements\n",
    "plt.show()\n"
   ]
  },
  {
   "cell_type": "code",
   "execution_count": 64,
   "id": "5213ddac-6236-41a6-804c-2d92b3c33941",
   "metadata": {},
   "outputs": [],
   "source": [
    "features_rf = ['lum_moy', 'int_moy', 'col_moy', 'meteo_pluie', \n",
    "               'age_moyen_usager_std', 'catv_moyen_std']\n",
    "\n"
   ]
  },
  {
   "cell_type": "code",
   "execution_count": 76,
   "id": "3e255b76-485f-46e6-8f0b-b4fc7d368a65",
   "metadata": {},
   "outputs": [],
   "source": [
    "from sklearn.model_selection import train_test_split\n",
    "\n",
    "# Variables qui existent dans df_modele\n",
    "features_rf = ['lum_moy', 'int_moy', 'col_moy', 'age_moyen_usager', 'catv_moyen']\n",
    "X = df_modele[features_rf]\n",
    "y = df_modele['nombre_accidents']\n",
    "\n",
    "X_train, X_test, y_train, y_test = train_test_split(X, y, test_size=0.2, random_state=42)\n"
   ]
  },
  {
   "cell_type": "code",
   "execution_count": 77,
   "id": "8252f8fa-d5e3-4e70-95eb-461019f2cb4c",
   "metadata": {},
   "outputs": [
    {
     "data": {
      "text/plain": [
       "RandomForestRegressor(random_state=42)"
      ]
     },
     "execution_count": 77,
     "metadata": {},
     "output_type": "execute_result"
    }
   ],
   "source": [
    "from sklearn.ensemble import RandomForestRegressor\n",
    "\n",
    "# Initialisation et entraînement du modèle\n",
    "rf_model = RandomForestRegressor(n_estimators=100, max_depth=None, random_state=42)\n",
    "rf_model.fit(X_train, y_train)"
   ]
  },
  {
   "cell_type": "code",
   "execution_count": 78,
   "id": "09f6d799-6f28-48bb-910a-0709b837ce97",
   "metadata": {},
   "outputs": [
    {
     "name": "stdout",
     "output_type": "stream",
     "text": [
      "Taille X_train : (85, 5)\n",
      "Taille X_test  : (22, 5)\n"
     ]
    }
   ],
   "source": [
    "print(\"Taille X_train :\", X_train.shape)\n",
    "print(\"Taille X_test  :\", X_test.shape)\n"
   ]
  },
  {
   "cell_type": "code",
   "execution_count": 81,
   "id": "c419e01d-dfbe-43b4-91b5-b5a924e9831c",
   "metadata": {},
   "outputs": [
    {
     "name": "stdout",
     "output_type": "stream",
     "text": [
      "✅ Modèle Random Forest entraîné (régression)\n",
      "✔️  RMSE (erreur quadratique moyenne) : 475.74\n",
      "✔️  R² (coefficient de détermination) : 0.27\n"
     ]
    }
   ],
   "source": [
    "from sklearn.ensemble import RandomForestRegressor\n",
    "from sklearn.metrics import mean_squared_error, r2_score\n",
    "\n",
    "# Initialisation du modèle Random Forest avec des paramètres par défaut\n",
    "model = RandomForestRegressor(\n",
    "    n_estimators=100,      # Nombre d'arbres\n",
    "    max_depth=None,        # Profondeur maximale (aucune limite ici)\n",
    "    max_features='auto',   # Nombre de variables considérées à chaque split\n",
    "    random_state=42\n",
    ")\n",
    "\n",
    "# Entraînement sur le jeu d'entraînement\n",
    "model.fit(X_train, y_train)\n",
    "\n",
    "# Prédictions sur le jeu de test\n",
    "y_pred = model.predict(X_test)\n",
    "\n",
    "# Évaluation des performances\n",
    "rmse = mean_squared_error(y_test, y_pred, squared=False)\n",
    "r2 = r2_score(y_test, y_pred)\n",
    "\n",
    "print(\"✅ Modèle Random Forest entraîné (régression)\")\n",
    "print(f\"✔️  RMSE (erreur quadratique moyenne) : {rmse:.2f}\")\n",
    "print(f\"✔️  R² (coefficient de détermination) : {r2:.2f}\")\n"
   ]
  },
  {
   "cell_type": "code",
   "execution_count": 80,
   "id": "39c3adcb-bfc6-44a4-9513-55d185bd1510",
   "metadata": {},
   "outputs": [
    {
     "name": "stdout",
     "output_type": "stream",
     "text": [
      "📊 Évaluation du modèle Random Forest :\n",
      "✔️  MAE  : 272.83\n",
      "✔️  RMSE : 475.74\n"
     ]
    }
   ],
   "source": [
    "from sklearn.metrics import mean_absolute_error, mean_squared_error\n",
    "\n",
    "# Prédictions sur le jeu de test\n",
    "y_pred = model.predict(X_test)\n",
    "\n",
    "# Évaluation\n",
    "mae = mean_absolute_error(y_test, y_pred)\n",
    "rmse = mean_squared_error(y_test, y_pred, squared=False)\n",
    "\n",
    "print(\"📊 Évaluation du modèle Random Forest :\")\n",
    "print(f\"✔️  MAE  : {mae:.2f}\")\n",
    "print(f\"✔️  RMSE : {rmse:.2f}\")\n"
   ]
  },
  {
   "cell_type": "code",
   "execution_count": 70,
   "id": "f941511c-9236-4bd6-8639-768efe7695f7",
   "metadata": {},
   "outputs": [
    {
     "name": "stdout",
     "output_type": "stream",
     "text": [
      "Aperçu de y_train :\n",
      "count      85.000000\n",
      "mean      508.600000\n",
      "std       655.776987\n",
      "min         2.000000\n",
      "25%       177.000000\n",
      "50%       351.000000\n",
      "75%       585.000000\n",
      "max      4763.000000\n",
      "Name: nombre_accidents, dtype: float64\n",
      "\n",
      "Valeurs uniques dans y_train :\n",
      "2       1\n",
      "7       1\n",
      "10      1\n",
      "30      1\n",
      "37      1\n",
      "       ..\n",
      "1319    1\n",
      "1921    1\n",
      "2563    1\n",
      "2650    1\n",
      "4763    1\n",
      "Name: nombre_accidents, Length: 81, dtype: int64\n"
     ]
    }
   ],
   "source": [
    "print(\"Aperçu de y_train :\")\n",
    "print(y_train.describe())\n",
    "print(\"\\nValeurs uniques dans y_train :\")\n",
    "print(y_train.value_counts().sort_index())\n"
   ]
  },
  {
   "cell_type": "code",
   "execution_count": 74,
   "id": "7efedf77-95e0-456f-85e8-c2d604e408ef",
   "metadata": {},
   "outputs": [],
   "source": [
    "usagers['nb_blesses_graves'] = (usagers['grav'] == 2).astype(int)\n",
    "cible = usagers.groupby('Num_Acc')['nb_blesses_graves'].sum().reset_index()\n"
   ]
  },
  {
   "cell_type": "code",
   "execution_count": 75,
   "id": "c5749ecd-6050-4ae0-a1ca-484b660c6f28",
   "metadata": {},
   "outputs": [
    {
     "name": "stdout",
     "output_type": "stream",
     "text": [
      "0    51619\n",
      "1     3041\n",
      "2      135\n",
      "3       22\n",
      "4        4\n",
      "5        1\n",
      "Name: nb_blesses_graves, dtype: int64\n"
     ]
    }
   ],
   "source": [
    "print(cible['nb_blesses_graves'].value_counts().sort_index())\n"
   ]
  },
  {
   "cell_type": "code",
   "execution_count": 73,
   "id": "2cb26986-6625-4ccd-aa43-fd5832873693",
   "metadata": {},
   "outputs": [
    {
     "ename": "NameError",
     "evalue": "name 'df' is not defined",
     "output_type": "error",
     "traceback": [
      "\u001b[0;31m---------------------------------------------------------------------------\u001b[0m",
      "\u001b[0;31mNameError\u001b[0m                                 Traceback (most recent call last)",
      "Cell \u001b[0;32mIn[73], line 1\u001b[0m\n\u001b[0;32m----> 1\u001b[0m \u001b[38;5;28mprint\u001b[39m(\u001b[43mdf\u001b[49m[[\u001b[38;5;124m'\u001b[39m\u001b[38;5;124mnb_blesses_graves\u001b[39m\u001b[38;5;124m'\u001b[39m]]\u001b[38;5;241m.\u001b[39mvalue_counts()\u001b[38;5;241m.\u001b[39msort_index())\n",
      "\u001b[0;31mNameError\u001b[0m: name 'df' is not defined"
     ]
    }
   ],
   "source": [
    "print(df[['nb_blesses_graves']].value_counts().sort_index())\n"
   ]
  },
  {
   "cell_type": "code",
   "execution_count": null,
   "id": "c69c539d-9a8f-469b-8f23-b9b770479838",
   "metadata": {},
   "outputs": [],
   "source": []
  }
 ],
 "metadata": {
  "kernelspec": {
   "display_name": "Python 3 (ipykernel)",
   "language": "python",
   "name": "python3"
  },
  "language_info": {
   "codemirror_mode": {
    "name": "ipython",
    "version": 3
   },
   "file_extension": ".py",
   "mimetype": "text/x-python",
   "name": "python",
   "nbconvert_exporter": "python",
   "pygments_lexer": "ipython3",
   "version": "3.8.8"
  }
 },
 "nbformat": 4,
 "nbformat_minor": 5
}
