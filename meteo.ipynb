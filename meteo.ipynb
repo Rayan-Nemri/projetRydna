{
 "cells": [
  {
   "cell_type": "code",
   "execution_count": 1,
   "id": "fe640519-1d83-435c-8c75-e8154ab5b2de",
   "metadata": {},
   "outputs": [
    {
     "name": "stdout",
     "output_type": "stream",
     "text": [
      "Température à midi : 13.1 °C\n",
      "Précipitation à midi : 0.0 mm\n"
     ]
    }
   ],
   "source": [
    "import requests\n",
    "\n",
    "\n",
    "date = \"2022-05-01\"\n",
    "latitude = 48.8566    # Paris\n",
    "longitude = 2.3522\n",
    "\n",
    "\n",
    "url = f\"https://archive-api.open-meteo.com/v1/archive?latitude={latitude}&longitude={longitude}&start_date={date}&end_date={date}&hourly=temperature_2m,precipitation,weathercode&timezone=Europe%2FParis\"\n",
    "\n",
    "response = requests.get(url)\n",
    "\n",
    "\n",
    "if response.status_code == 200:\n",
    "    data = response.json()\n",
    "   \n",
    "    heures = data[\"hourly\"][\"time\"]\n",
    "    temperatures = data[\"hourly\"][\"temperature_2m\"]\n",
    "    precipitations = data[\"hourly\"][\"precipitation\"]\n",
    "\n",
    "    for i in range(len(heures)):\n",
    "        if \"T12:00\" in heures[i]:  # On cherche 12h\n",
    "            print(\"Température à midi :\", temperatures[i], \"°C\")\n",
    "            print(\"Précipitation à midi :\", precipitations[i], \"mm\")\n",
    "            break\n",
    "else:\n",
    "    print(\"Erreur lors de l'appel à l'API météo\")"
   ]
  },
  {
   "cell_type": "code",
   "execution_count": null,
   "id": "7880c061-92b4-4e4a-9bde-daaa872c780a",
   "metadata": {},
   "outputs": [],
   "source": []
  }
 ],
 "metadata": {
  "kernelspec": {
   "display_name": "Python 3 (ipykernel)",
   "language": "python",
   "name": "python3"
  },
  "language_info": {
   "codemirror_mode": {
    "name": "ipython",
    "version": 3
   },
   "file_extension": ".py",
   "mimetype": "text/x-python",
   "name": "python",
   "nbconvert_exporter": "python",
   "pygments_lexer": "ipython3",
   "version": "3.8.8"
  }
 },
 "nbformat": 4,
 "nbformat_minor": 5
}
